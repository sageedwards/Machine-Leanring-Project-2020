{
 "cells": [
  {
   "cell_type": "markdown",
   "metadata": {},
   "source": [
    "# Machine Learning Project Report 2, Sage Edwards"
   ]
  },
  {
   "cell_type": "markdown",
   "metadata": {},
   "source": [
    "### Import Modules and Libraries"
   ]
  },
  {
   "cell_type": "code",
   "execution_count": 2,
   "metadata": {},
   "outputs": [],
   "source": [
    "import torch\n",
    "import torch.nn as nn\n",
    "import torchvision.transforms as transforms\n",
    "import torch.optim as optim\n",
    "import torchvision.datasets as datasets\n",
    "import imageio\n",
    "import numpy as np\n",
    "import matplotlib\n",
    "\n",
    "from torchvision.utils import make_grid, save_image\n",
    "from torch.utils.data import DataLoader\n",
    "from matplotlib import pyplot as plt\n",
    "from tqdm import tqdm\n",
    "\n",
    "matplotlib.style.use('ggplot')"
   ]
  },
  {
   "cell_type": "markdown",
   "metadata": {},
   "source": [
    "## Generative Adversarial Networks"
   ]
  },
  {
   "cell_type": "markdown",
   "metadata": {},
   "source": [
    "### Learning Parameters"
   ]
  },
  {
   "cell_type": "markdown",
   "metadata": {},
   "source": [
    "Batch size determins the number of training samples to work with.\n",
    "\n",
    "Epoch(s) is the number of training iterations.\n",
    "\n"
   ]
  },
  {
   "cell_type": "code",
   "execution_count": 3,
   "metadata": {},
   "outputs": [],
   "source": [
    "batch_size = 512\n",
    "epochs = 301\n",
    "sample_size = 64 # fixed sample size\n",
    "nz = 128 # latent vector size\n",
    "k = 1 # number of steps to apply to the discriminator\n",
    "# device = torch.device('cuda' if torch.cuda.is_available() else 'cpu')\n",
    "device = torch.device('cuda')"
   ]
  },
  {
   "cell_type": "markdown",
   "metadata": {},
   "source": [
    "### Dataset Preperation"
   ]
  },
  {
   "cell_type": "code",
   "execution_count": 4,
   "metadata": {},
   "outputs": [],
   "source": [
    "transform = transforms.Compose([\n",
    "    transforms.ToTensor(), # convert images to tensors\n",
    "    transforms.Normalize((0.5,),(0.5,)), # normalize them\n",
    "])\n",
    "\n",
    "to_pil_image = transforms.ToPILImage() # convert to PIL image format\n",
    "\n",
    "# Download and define the MNIST dataset\n",
    "train_data = datasets.MNIST(\n",
    "    root='../input/data',\n",
    "    train=True,\n",
    "    download=True,\n",
    "    transform=transform\n",
    ")\n",
    "# Define the data loader\n",
    "train_loader = DataLoader(train_data, batch_size=batch_size, shuffle=True)"
   ]
  },
  {
   "cell_type": "markdown",
   "metadata": {},
   "source": [
    "### Generator Neural Network"
   ]
  },
  {
   "cell_type": "code",
   "execution_count": 5,
   "metadata": {},
   "outputs": [],
   "source": [
    "class Generator(nn.Module):\n",
    "    def __init__(self, nz):\n",
    "        super(Generator, self).__init__()\n",
    "        self.nz = nz\n",
    "        # Sequential container to build the neural network\n",
    "        self.main = nn.Sequential(\n",
    "            # Four linear layers with three LearkyReLu activations and the last layer being a Tanh\n",
    "            \n",
    "            # Initial Layer\n",
    "            nn.Linear(self.nz, 256),\n",
    "            nn.LeakyReLU(0.2),\n",
    "            \n",
    "            # Second Layer\n",
    "            nn.Linear(256, 512),\n",
    "            nn.LeakyReLU(0.2),\n",
    "            \n",
    "            # Third Layer\n",
    "            nn.Linear(512, 1024),\n",
    "            nn.LeakyReLU(0.2),\n",
    "            \n",
    "            # Final Layer\n",
    "            nn.Linear(1024, 784),\n",
    "            nn.Tanh(),\n",
    "        )\n",
    "    # Pass the batch through the neural network layers\n",
    "    def forward(self, x):\n",
    "        return self.main(x).view(-1, 1, 28, 28)"
   ]
  },
  {
   "cell_type": "markdown",
   "metadata": {},
   "source": [
    "### Discriminator Neural Network"
   ]
  },
  {
   "cell_type": "code",
   "execution_count": 6,
   "metadata": {},
   "outputs": [],
   "source": [
    "class Discriminator(nn.Module):\n",
    "    def __init__(self):\n",
    "        super(Discriminator, self).__init__()\n",
    "        self.n_input = 784\n",
    "        self.main = nn.Sequential(\n",
    "            \n",
    "            nn.Linear(self.n_input, 1024),\n",
    "            nn.LeakyReLU(0.2),\n",
    "            nn.Dropout(0.3),\n",
    "            \n",
    "            nn.Linear(1024, 512),\n",
    "            nn.LeakyReLU(0.2),\n",
    "            nn.Dropout(0.3),\n",
    "            \n",
    "            nn.Linear(512, 256),\n",
    "            nn.LeakyReLU(0.2),\n",
    "            nn.Dropout(0.3),\n",
    "            \n",
    "            nn.Linear(256, 1),\n",
    "            nn.Sigmoid(),\n",
    "        )\n",
    "    def forward(self, x):\n",
    "        x = x.view(-1, 784)\n",
    "        return self.main(x)"
   ]
  },
  {
   "cell_type": "markdown",
   "metadata": {},
   "source": [
    "### Initialize the Neural Networks and Define the Optimizers"
   ]
  },
  {
   "cell_type": "code",
   "execution_count": 8,
   "metadata": {},
   "outputs": [
    {
     "name": "stdout",
     "output_type": "stream",
     "text": [
      "##### GENERATOR #####\n",
      "Generator(\n",
      "  (main): Sequential(\n",
      "    (0): Linear(in_features=128, out_features=256, bias=True)\n",
      "    (1): LeakyReLU(negative_slope=0.2)\n",
      "    (2): Linear(in_features=256, out_features=512, bias=True)\n",
      "    (3): LeakyReLU(negative_slope=0.2)\n",
      "    (4): Linear(in_features=512, out_features=1024, bias=True)\n",
      "    (5): LeakyReLU(negative_slope=0.2)\n",
      "    (6): Linear(in_features=1024, out_features=784, bias=True)\n",
      "    (7): Tanh()\n",
      "  )\n",
      ")\n",
      "######################\n",
      "\n",
      "##### DISCRIMINATOR #####\n",
      "Discriminator(\n",
      "  (main): Sequential(\n",
      "    (0): Linear(in_features=784, out_features=1024, bias=True)\n",
      "    (1): LeakyReLU(negative_slope=0.2)\n",
      "    (2): Dropout(p=0.3, inplace=False)\n",
      "    (3): Linear(in_features=1024, out_features=512, bias=True)\n",
      "    (4): LeakyReLU(negative_slope=0.2)\n",
      "    (5): Dropout(p=0.3, inplace=False)\n",
      "    (6): Linear(in_features=512, out_features=256, bias=True)\n",
      "    (7): LeakyReLU(negative_slope=0.2)\n",
      "    (8): Dropout(p=0.3, inplace=False)\n",
      "    (9): Linear(in_features=256, out_features=1, bias=True)\n",
      "    (10): Sigmoid()\n",
      "  )\n",
      ")\n",
      "######################\n"
     ]
    }
   ],
   "source": [
    "generator = Generator(nz).to(device)\n",
    "discriminator = Discriminator().to(device)\n",
    "\n",
    "print('##### GENERATOR #####')\n",
    "print(generator)\n",
    "print('######################')\n",
    "\n",
    "print('\\n##### DISCRIMINATOR #####')\n",
    "print(discriminator)\n",
    "print('######################')\n",
    "\n",
    "# optimizers\n",
    "optim_g = optim.Adam(generator.parameters(), lr=0.0002)\n",
    "optim_d = optim.Adam(discriminator.parameters(), lr=0.0002)\n",
    "\n",
    "# loss function\n",
    "criterion = nn.BCELoss()\n",
    "\n",
    "losses_g = [] # to store generator loss after each epoch\n",
    "losses_d = [] # to store discriminator loss after each epoch\n",
    "images = [] # to store images generatd by the generator"
   ]
  },
  {
   "cell_type": "markdown",
   "metadata": {},
   "source": [
    "### Defining Utility Functions"
   ]
  },
  {
   "cell_type": "code",
   "execution_count": 9,
   "metadata": {},
   "outputs": [],
   "source": [
    "# to create real labels (1s)\n",
    "def label_real(size):\n",
    "    data = torch.ones(size, 1)\n",
    "    return data.to(device)\n",
    "# to create fake labels (0s)\n",
    "def label_fake(size):\n",
    "    data = torch.zeros(size, 1)\n",
    "    return data.to(device)\n",
    "\n",
    "# function to create the noise vector\n",
    "def create_noise(sample_size, nz):\n",
    "    return torch.randn(sample_size, nz).to(device)\n",
    "\n",
    "# to save the images generated by the generator\n",
    "def save_generator_image(image, path):\n",
    "    save_image(image, path)"
   ]
  },
  {
   "cell_type": "markdown",
   "metadata": {},
   "source": [
    "### Function for Training the Discriminator"
   ]
  },
  {
   "cell_type": "code",
   "execution_count": 10,
   "metadata": {},
   "outputs": [],
   "source": [
    "# function to train the discriminator network\n",
    "def train_discriminator(optimizer, data_real, data_fake):\n",
    "    b_size = data_real.size(0)\n",
    "    real_label = label_real(b_size)\n",
    "    fake_label = label_fake(b_size)\n",
    "    optimizer.zero_grad()\n",
    "    output_real = discriminator(data_real)\n",
    "    loss_real = criterion(output_real, real_label)\n",
    "    output_fake = discriminator(data_fake)\n",
    "    loss_fake = criterion(output_fake, fake_label)\n",
    "    loss_real.backward()\n",
    "    loss_fake.backward()\n",
    "    optimizer.step()\n",
    "    return loss_real + loss_fake"
   ]
  },
  {
   "cell_type": "markdown",
   "metadata": {},
   "source": [
    "### Function to Train the Generator"
   ]
  },
  {
   "cell_type": "code",
   "execution_count": 11,
   "metadata": {},
   "outputs": [],
   "source": [
    "# function to train the generator network\n",
    "def train_generator(optimizer, data_fake):\n",
    "    b_size = data_fake.size(0)\n",
    "    real_label = label_real(b_size)\n",
    "    optimizer.zero_grad()\n",
    "    output = discriminator(data_fake)\n",
    "    loss = criterion(output, real_label)\n",
    "    loss.backward()\n",
    "    optimizer.step()\n",
    "    return loss"
   ]
  },
  {
   "cell_type": "markdown",
   "metadata": {},
   "source": [
    "### Training the GAN"
   ]
  },
  {
   "cell_type": "code",
   "execution_count": 12,
   "metadata": {},
   "outputs": [
    {
     "data": {
      "text/plain": [
       "Discriminator(\n",
       "  (main): Sequential(\n",
       "    (0): Linear(in_features=784, out_features=1024, bias=True)\n",
       "    (1): LeakyReLU(negative_slope=0.2)\n",
       "    (2): Dropout(p=0.3, inplace=False)\n",
       "    (3): Linear(in_features=1024, out_features=512, bias=True)\n",
       "    (4): LeakyReLU(negative_slope=0.2)\n",
       "    (5): Dropout(p=0.3, inplace=False)\n",
       "    (6): Linear(in_features=512, out_features=256, bias=True)\n",
       "    (7): LeakyReLU(negative_slope=0.2)\n",
       "    (8): Dropout(p=0.3, inplace=False)\n",
       "    (9): Linear(in_features=256, out_features=1, bias=True)\n",
       "    (10): Sigmoid()\n",
       "  )\n",
       ")"
      ]
     },
     "execution_count": 12,
     "metadata": {},
     "output_type": "execute_result"
    }
   ],
   "source": [
    "# create the noise vector\n",
    "noise = create_noise(sample_size, nz)\n",
    "\n",
    "generator.train()\n",
    "discriminator.train()"
   ]
  },
  {
   "cell_type": "markdown",
   "metadata": {},
   "source": [
    "### The Training Loop"
   ]
  },
  {
   "cell_type": "code",
   "execution_count": 13,
   "metadata": {},
   "outputs": [
    {
     "name": "stderr",
     "output_type": "stream",
     "text": [
      "118it [00:06, 17.51it/s]                         \n",
      "  2%|▏         | 2/117 [00:00<00:07, 16.37it/s]"
     ]
    },
    {
     "name": "stdout",
     "output_type": "stream",
     "text": [
      "Epoch 0 of 301\n",
      "Generator loss: 1.28361320, Discriminator loss: 1.02001798\n"
     ]
    },
    {
     "name": "stderr",
     "output_type": "stream",
     "text": [
      "118it [00:06, 17.42it/s]                         \n",
      "  2%|▏         | 2/117 [00:00<00:06, 17.07it/s]"
     ]
    },
    {
     "name": "stdout",
     "output_type": "stream",
     "text": [
      "Epoch 1 of 301\n",
      "Generator loss: 1.54967308, Discriminator loss: 1.16607308\n"
     ]
    },
    {
     "name": "stderr",
     "output_type": "stream",
     "text": [
      "118it [00:06, 17.67it/s]                         \n",
      "  2%|▏         | 2/117 [00:00<00:06, 17.18it/s]"
     ]
    },
    {
     "name": "stdout",
     "output_type": "stream",
     "text": [
      "Epoch 2 of 301\n",
      "Generator loss: 4.45187616, Discriminator loss: 0.85784709\n"
     ]
    },
    {
     "name": "stderr",
     "output_type": "stream",
     "text": [
      "118it [00:06, 17.77it/s]                         \n",
      "  2%|▏         | 2/117 [00:00<00:06, 17.24it/s]"
     ]
    },
    {
     "name": "stdout",
     "output_type": "stream",
     "text": [
      "Epoch 3 of 301\n",
      "Generator loss: 7.60040569, Discriminator loss: 0.31383425\n"
     ]
    },
    {
     "name": "stderr",
     "output_type": "stream",
     "text": [
      "118it [00:06, 17.78it/s]                         \n",
      "  2%|▏         | 2/117 [00:00<00:06, 17.33it/s]"
     ]
    },
    {
     "name": "stdout",
     "output_type": "stream",
     "text": [
      "Epoch 4 of 301\n",
      "Generator loss: 7.11803913, Discriminator loss: 0.57338446\n"
     ]
    },
    {
     "name": "stderr",
     "output_type": "stream",
     "text": [
      "118it [00:06, 17.83it/s]                         \n",
      "  2%|▏         | 2/117 [00:00<00:06, 17.25it/s]"
     ]
    },
    {
     "name": "stdout",
     "output_type": "stream",
     "text": [
      "Epoch 5 of 301\n",
      "Generator loss: 3.98207355, Discriminator loss: 0.73629177\n"
     ]
    },
    {
     "name": "stderr",
     "output_type": "stream",
     "text": [
      "118it [00:06, 17.72it/s]                         \n",
      "  2%|▏         | 2/117 [00:00<00:06, 17.10it/s]"
     ]
    },
    {
     "name": "stdout",
     "output_type": "stream",
     "text": [
      "Epoch 6 of 301\n",
      "Generator loss: 3.82554650, Discriminator loss: 0.82599515\n"
     ]
    },
    {
     "name": "stderr",
     "output_type": "stream",
     "text": [
      "118it [00:06, 17.75it/s]                         \n",
      "  2%|▏         | 2/117 [00:00<00:06, 17.07it/s]"
     ]
    },
    {
     "name": "stdout",
     "output_type": "stream",
     "text": [
      "Epoch 7 of 301\n",
      "Generator loss: 2.36166334, Discriminator loss: 0.95056349\n"
     ]
    },
    {
     "name": "stderr",
     "output_type": "stream",
     "text": [
      "118it [00:06, 17.70it/s]                         \n",
      "  2%|▏         | 2/117 [00:00<00:06, 17.49it/s]"
     ]
    },
    {
     "name": "stdout",
     "output_type": "stream",
     "text": [
      "Epoch 8 of 301\n",
      "Generator loss: 2.66235042, Discriminator loss: 0.87299359\n"
     ]
    },
    {
     "name": "stderr",
     "output_type": "stream",
     "text": [
      "118it [00:06, 17.70it/s]                         \n",
      "  2%|▏         | 2/117 [00:00<00:06, 16.83it/s]"
     ]
    },
    {
     "name": "stdout",
     "output_type": "stream",
     "text": [
      "Epoch 9 of 301\n",
      "Generator loss: 2.77399755, Discriminator loss: 0.80052072\n"
     ]
    },
    {
     "name": "stderr",
     "output_type": "stream",
     "text": [
      "118it [00:06, 17.66it/s]                         \n",
      "  2%|▏         | 2/117 [00:00<00:06, 17.38it/s]"
     ]
    },
    {
     "name": "stdout",
     "output_type": "stream",
     "text": [
      "Epoch 10 of 301\n",
      "Generator loss: 2.40780234, Discriminator loss: 1.08374774\n"
     ]
    },
    {
     "name": "stderr",
     "output_type": "stream",
     "text": [
      "118it [00:06, 17.92it/s]                         \n",
      "  2%|▏         | 2/117 [00:00<00:06, 16.87it/s]"
     ]
    },
    {
     "name": "stdout",
     "output_type": "stream",
     "text": [
      "Epoch 11 of 301\n",
      "Generator loss: 2.18576121, Discriminator loss: 0.94956273\n"
     ]
    },
    {
     "name": "stderr",
     "output_type": "stream",
     "text": [
      "118it [00:06, 17.53it/s]                         \n",
      "  2%|▏         | 2/117 [00:00<00:07, 14.68it/s]"
     ]
    },
    {
     "name": "stdout",
     "output_type": "stream",
     "text": [
      "Epoch 12 of 301\n",
      "Generator loss: 1.11273015, Discriminator loss: 1.22711623\n"
     ]
    },
    {
     "name": "stderr",
     "output_type": "stream",
     "text": [
      "118it [00:06, 17.40it/s]                         \n",
      "  2%|▏         | 2/117 [00:00<00:06, 17.32it/s]"
     ]
    },
    {
     "name": "stdout",
     "output_type": "stream",
     "text": [
      "Epoch 13 of 301\n",
      "Generator loss: 2.15039921, Discriminator loss: 0.88954836\n"
     ]
    },
    {
     "name": "stderr",
     "output_type": "stream",
     "text": [
      "118it [00:06, 17.81it/s]                         \n",
      "  2%|▏         | 2/117 [00:00<00:06, 17.35it/s]"
     ]
    },
    {
     "name": "stdout",
     "output_type": "stream",
     "text": [
      "Epoch 14 of 301\n",
      "Generator loss: 2.53984356, Discriminator loss: 0.91532516\n"
     ]
    },
    {
     "name": "stderr",
     "output_type": "stream",
     "text": [
      "118it [00:06, 17.91it/s]                         \n",
      "  2%|▏         | 2/117 [00:00<00:06, 17.46it/s]"
     ]
    },
    {
     "name": "stdout",
     "output_type": "stream",
     "text": [
      "Epoch 15 of 301\n",
      "Generator loss: 2.37438202, Discriminator loss: 0.89721274\n"
     ]
    },
    {
     "name": "stderr",
     "output_type": "stream",
     "text": [
      "118it [00:06, 17.96it/s]                         \n",
      "  2%|▏         | 2/117 [00:00<00:06, 17.32it/s]"
     ]
    },
    {
     "name": "stdout",
     "output_type": "stream",
     "text": [
      "Epoch 16 of 301\n",
      "Generator loss: 2.96369648, Discriminator loss: 0.91840988\n"
     ]
    },
    {
     "name": "stderr",
     "output_type": "stream",
     "text": [
      "118it [00:06, 18.10it/s]                         \n",
      "  2%|▏         | 2/117 [00:00<00:06, 17.59it/s]"
     ]
    },
    {
     "name": "stdout",
     "output_type": "stream",
     "text": [
      "Epoch 17 of 301\n",
      "Generator loss: 4.98488235, Discriminator loss: 0.71961051\n"
     ]
    },
    {
     "name": "stderr",
     "output_type": "stream",
     "text": [
      "118it [00:06, 17.41it/s]                         \n",
      "  2%|▏         | 2/117 [00:00<00:06, 17.33it/s]"
     ]
    },
    {
     "name": "stdout",
     "output_type": "stream",
     "text": [
      "Epoch 18 of 301\n",
      "Generator loss: 2.87766695, Discriminator loss: 0.53821689\n"
     ]
    },
    {
     "name": "stderr",
     "output_type": "stream",
     "text": [
      "118it [00:06, 17.69it/s]                         \n",
      "  2%|▏         | 2/117 [00:00<00:06, 17.15it/s]"
     ]
    },
    {
     "name": "stdout",
     "output_type": "stream",
     "text": [
      "Epoch 19 of 301\n",
      "Generator loss: 3.36603379, Discriminator loss: 0.52891296\n"
     ]
    },
    {
     "name": "stderr",
     "output_type": "stream",
     "text": [
      "118it [00:06, 17.58it/s]                         \n",
      "  2%|▏         | 2/117 [00:00<00:06, 17.04it/s]"
     ]
    },
    {
     "name": "stdout",
     "output_type": "stream",
     "text": [
      "Epoch 20 of 301\n",
      "Generator loss: 3.25770211, Discriminator loss: 0.52912438\n"
     ]
    },
    {
     "name": "stderr",
     "output_type": "stream",
     "text": [
      "118it [00:06, 17.36it/s]                         \n",
      "  2%|▏         | 2/117 [00:00<00:06, 17.41it/s]"
     ]
    },
    {
     "name": "stdout",
     "output_type": "stream",
     "text": [
      "Epoch 21 of 301\n",
      "Generator loss: 3.10699224, Discriminator loss: 0.46810636\n"
     ]
    },
    {
     "name": "stderr",
     "output_type": "stream",
     "text": [
      "118it [00:06, 17.81it/s]                         \n",
      "  2%|▏         | 2/117 [00:00<00:06, 16.71it/s]"
     ]
    },
    {
     "name": "stdout",
     "output_type": "stream",
     "text": [
      "Epoch 22 of 301\n",
      "Generator loss: 3.96219993, Discriminator loss: 0.32247916\n"
     ]
    },
    {
     "name": "stderr",
     "output_type": "stream",
     "text": [
      "118it [00:06, 17.64it/s]                         \n",
      "  2%|▏         | 2/117 [00:00<00:06, 16.81it/s]"
     ]
    },
    {
     "name": "stdout",
     "output_type": "stream",
     "text": [
      "Epoch 23 of 301\n",
      "Generator loss: 3.93381548, Discriminator loss: 0.27890888\n"
     ]
    },
    {
     "name": "stderr",
     "output_type": "stream",
     "text": [
      "118it [00:06, 17.38it/s]                         \n",
      "  2%|▏         | 2/117 [00:00<00:06, 16.72it/s]"
     ]
    },
    {
     "name": "stdout",
     "output_type": "stream",
     "text": [
      "Epoch 24 of 301\n",
      "Generator loss: 3.59934378, Discriminator loss: 0.42074957\n"
     ]
    },
    {
     "name": "stderr",
     "output_type": "stream",
     "text": [
      "118it [00:06, 17.80it/s]                         \n",
      "  2%|▏         | 2/117 [00:00<00:06, 17.53it/s]"
     ]
    },
    {
     "name": "stdout",
     "output_type": "stream",
     "text": [
      "Epoch 25 of 301\n",
      "Generator loss: 3.51004004, Discriminator loss: 0.43335351\n"
     ]
    },
    {
     "name": "stderr",
     "output_type": "stream",
     "text": [
      "118it [00:06, 17.78it/s]                         \n",
      "  2%|▏         | 2/117 [00:00<00:06, 17.21it/s]"
     ]
    },
    {
     "name": "stdout",
     "output_type": "stream",
     "text": [
      "Epoch 26 of 301\n",
      "Generator loss: 3.49333096, Discriminator loss: 0.35370037\n"
     ]
    },
    {
     "name": "stderr",
     "output_type": "stream",
     "text": [
      "118it [00:06, 17.71it/s]                         \n",
      "  2%|▏         | 2/117 [00:00<00:06, 17.14it/s]"
     ]
    },
    {
     "name": "stdout",
     "output_type": "stream",
     "text": [
      "Epoch 27 of 301\n",
      "Generator loss: 3.41299748, Discriminator loss: 0.44647017\n"
     ]
    },
    {
     "name": "stderr",
     "output_type": "stream",
     "text": [
      "118it [00:06, 17.43it/s]                         \n",
      "  2%|▏         | 2/117 [00:00<00:06, 16.99it/s]"
     ]
    },
    {
     "name": "stdout",
     "output_type": "stream",
     "text": [
      "Epoch 28 of 301\n",
      "Generator loss: 3.37608242, Discriminator loss: 0.40414318\n"
     ]
    },
    {
     "name": "stderr",
     "output_type": "stream",
     "text": [
      "118it [00:06, 17.75it/s]                         \n",
      "  2%|▏         | 2/117 [00:00<00:06, 17.02it/s]"
     ]
    },
    {
     "name": "stdout",
     "output_type": "stream",
     "text": [
      "Epoch 29 of 301\n",
      "Generator loss: 3.62211776, Discriminator loss: 0.38006791\n"
     ]
    },
    {
     "name": "stderr",
     "output_type": "stream",
     "text": [
      "118it [00:06, 17.59it/s]                         \n",
      "  2%|▏         | 2/117 [00:00<00:06, 17.03it/s]"
     ]
    },
    {
     "name": "stdout",
     "output_type": "stream",
     "text": [
      "Epoch 30 of 301\n",
      "Generator loss: 3.77922320, Discriminator loss: 0.31085321\n"
     ]
    },
    {
     "name": "stderr",
     "output_type": "stream",
     "text": [
      "118it [00:06, 17.56it/s]                         \n",
      "  2%|▏         | 2/117 [00:00<00:06, 17.21it/s]"
     ]
    },
    {
     "name": "stdout",
     "output_type": "stream",
     "text": [
      "Epoch 31 of 301\n",
      "Generator loss: 3.47862363, Discriminator loss: 0.38566321\n"
     ]
    },
    {
     "name": "stderr",
     "output_type": "stream",
     "text": [
      "118it [00:06, 17.96it/s]                         \n",
      "  2%|▏         | 2/117 [00:00<00:06, 17.47it/s]"
     ]
    },
    {
     "name": "stdout",
     "output_type": "stream",
     "text": [
      "Epoch 32 of 301\n",
      "Generator loss: 3.64729524, Discriminator loss: 0.37158465\n"
     ]
    },
    {
     "name": "stderr",
     "output_type": "stream",
     "text": [
      "118it [00:06, 17.85it/s]                         \n",
      "  2%|▏         | 2/117 [00:00<00:06, 16.90it/s]"
     ]
    },
    {
     "name": "stdout",
     "output_type": "stream",
     "text": [
      "Epoch 33 of 301\n",
      "Generator loss: 3.23877120, Discriminator loss: 0.41592696\n"
     ]
    },
    {
     "name": "stderr",
     "output_type": "stream",
     "text": [
      "118it [00:06, 17.47it/s]                         \n",
      "  2%|▏         | 2/117 [00:00<00:06, 17.39it/s]"
     ]
    },
    {
     "name": "stdout",
     "output_type": "stream",
     "text": [
      "Epoch 34 of 301\n",
      "Generator loss: 3.57168698, Discriminator loss: 0.41331503\n"
     ]
    },
    {
     "name": "stderr",
     "output_type": "stream",
     "text": [
      "118it [00:06, 17.46it/s]                         \n",
      "  2%|▏         | 2/117 [00:00<00:06, 17.02it/s]"
     ]
    },
    {
     "name": "stdout",
     "output_type": "stream",
     "text": [
      "Epoch 35 of 301\n",
      "Generator loss: 3.20740151, Discriminator loss: 0.41763431\n"
     ]
    },
    {
     "name": "stderr",
     "output_type": "stream",
     "text": [
      "118it [00:06, 17.47it/s]                         \n",
      "  2%|▏         | 2/117 [00:00<00:06, 17.34it/s]"
     ]
    },
    {
     "name": "stdout",
     "output_type": "stream",
     "text": [
      "Epoch 36 of 301\n",
      "Generator loss: 3.38295150, Discriminator loss: 0.39772201\n"
     ]
    },
    {
     "name": "stderr",
     "output_type": "stream",
     "text": [
      "118it [00:06, 17.61it/s]                         \n",
      "  2%|▏         | 2/117 [00:00<00:06, 17.49it/s]"
     ]
    },
    {
     "name": "stdout",
     "output_type": "stream",
     "text": [
      "Epoch 37 of 301\n",
      "Generator loss: 3.51776123, Discriminator loss: 0.39567068\n"
     ]
    },
    {
     "name": "stderr",
     "output_type": "stream",
     "text": [
      "118it [00:06, 17.62it/s]                         \n",
      "  2%|▏         | 2/117 [00:00<00:06, 16.85it/s]"
     ]
    },
    {
     "name": "stdout",
     "output_type": "stream",
     "text": [
      "Epoch 38 of 301\n",
      "Generator loss: 3.21668172, Discriminator loss: 0.45494771\n"
     ]
    },
    {
     "name": "stderr",
     "output_type": "stream",
     "text": [
      "118it [00:06, 17.39it/s]                         \n",
      "  2%|▏         | 2/117 [00:00<00:06, 17.00it/s]"
     ]
    },
    {
     "name": "stdout",
     "output_type": "stream",
     "text": [
      "Epoch 39 of 301\n",
      "Generator loss: 3.46089029, Discriminator loss: 0.43438184\n"
     ]
    },
    {
     "name": "stderr",
     "output_type": "stream",
     "text": [
      "118it [00:06, 17.39it/s]                         \n",
      "  2%|▏         | 2/117 [00:00<00:06, 17.30it/s]"
     ]
    },
    {
     "name": "stdout",
     "output_type": "stream",
     "text": [
      "Epoch 40 of 301\n",
      "Generator loss: 3.37042737, Discriminator loss: 0.41548401\n"
     ]
    },
    {
     "name": "stderr",
     "output_type": "stream",
     "text": [
      "118it [00:06, 17.52it/s]                         \n",
      "  2%|▏         | 2/117 [00:00<00:06, 17.16it/s]"
     ]
    },
    {
     "name": "stdout",
     "output_type": "stream",
     "text": [
      "Epoch 41 of 301\n",
      "Generator loss: 3.41589546, Discriminator loss: 0.42372358\n"
     ]
    },
    {
     "name": "stderr",
     "output_type": "stream",
     "text": [
      "118it [00:06, 17.50it/s]                         \n",
      "  2%|▏         | 2/117 [00:00<00:06, 17.07it/s]"
     ]
    },
    {
     "name": "stdout",
     "output_type": "stream",
     "text": [
      "Epoch 42 of 301\n",
      "Generator loss: 3.26606464, Discriminator loss: 0.45641577\n"
     ]
    },
    {
     "name": "stderr",
     "output_type": "stream",
     "text": [
      "118it [00:06, 17.28it/s]                         \n",
      "  2%|▏         | 2/117 [00:00<00:06, 16.79it/s]"
     ]
    },
    {
     "name": "stdout",
     "output_type": "stream",
     "text": [
      "Epoch 43 of 301\n",
      "Generator loss: 3.39150929, Discriminator loss: 0.42534649\n"
     ]
    },
    {
     "name": "stderr",
     "output_type": "stream",
     "text": [
      "118it [00:06, 17.44it/s]                         \n",
      "  2%|▏         | 2/117 [00:00<00:06, 17.07it/s]"
     ]
    },
    {
     "name": "stdout",
     "output_type": "stream",
     "text": [
      "Epoch 44 of 301\n",
      "Generator loss: 3.15135098, Discriminator loss: 0.42849293\n"
     ]
    },
    {
     "name": "stderr",
     "output_type": "stream",
     "text": [
      "118it [00:06, 17.66it/s]                         \n",
      "  2%|▏         | 2/117 [00:00<00:06, 17.33it/s]"
     ]
    },
    {
     "name": "stdout",
     "output_type": "stream",
     "text": [
      "Epoch 45 of 301\n",
      "Generator loss: 3.35510468, Discriminator loss: 0.40973896\n"
     ]
    },
    {
     "name": "stderr",
     "output_type": "stream",
     "text": [
      "118it [00:06, 17.42it/s]                         \n",
      "  2%|▏         | 2/117 [00:00<00:06, 17.08it/s]"
     ]
    },
    {
     "name": "stdout",
     "output_type": "stream",
     "text": [
      "Epoch 46 of 301\n",
      "Generator loss: 3.09069467, Discriminator loss: 0.45340943\n"
     ]
    },
    {
     "name": "stderr",
     "output_type": "stream",
     "text": [
      "118it [00:06, 17.32it/s]                         \n",
      "  2%|▏         | 2/117 [00:00<00:06, 17.01it/s]"
     ]
    },
    {
     "name": "stdout",
     "output_type": "stream",
     "text": [
      "Epoch 47 of 301\n",
      "Generator loss: 3.20235682, Discriminator loss: 0.45892653\n"
     ]
    },
    {
     "name": "stderr",
     "output_type": "stream",
     "text": [
      "118it [00:06, 17.42it/s]                         \n",
      "  2%|▏         | 2/117 [00:00<00:06, 16.86it/s]"
     ]
    },
    {
     "name": "stdout",
     "output_type": "stream",
     "text": [
      "Epoch 48 of 301\n",
      "Generator loss: 3.14528251, Discriminator loss: 0.45250443\n"
     ]
    },
    {
     "name": "stderr",
     "output_type": "stream",
     "text": [
      "118it [00:06, 17.26it/s]                         \n",
      "  2%|▏         | 2/117 [00:00<00:06, 16.97it/s]"
     ]
    },
    {
     "name": "stdout",
     "output_type": "stream",
     "text": [
      "Epoch 49 of 301\n",
      "Generator loss: 2.94852757, Discriminator loss: 0.50281662\n"
     ]
    },
    {
     "name": "stderr",
     "output_type": "stream",
     "text": [
      "118it [00:06, 17.29it/s]                         \n",
      "  2%|▏         | 2/117 [00:00<00:06, 17.03it/s]"
     ]
    },
    {
     "name": "stdout",
     "output_type": "stream",
     "text": [
      "Epoch 50 of 301\n",
      "Generator loss: 2.81985879, Discriminator loss: 0.58834589\n"
     ]
    },
    {
     "name": "stderr",
     "output_type": "stream",
     "text": [
      "118it [00:06, 17.36it/s]                         \n",
      "  2%|▏         | 2/117 [00:00<00:06, 17.49it/s]"
     ]
    },
    {
     "name": "stdout",
     "output_type": "stream",
     "text": [
      "Epoch 51 of 301\n",
      "Generator loss: 2.94646001, Discriminator loss: 0.47908521\n"
     ]
    },
    {
     "name": "stderr",
     "output_type": "stream",
     "text": [
      "118it [00:06, 17.49it/s]                         \n",
      "  2%|▏         | 2/117 [00:00<00:06, 16.86it/s]"
     ]
    },
    {
     "name": "stdout",
     "output_type": "stream",
     "text": [
      "Epoch 52 of 301\n",
      "Generator loss: 3.02794647, Discriminator loss: 0.50808299\n"
     ]
    },
    {
     "name": "stderr",
     "output_type": "stream",
     "text": [
      "118it [00:06, 17.46it/s]                         \n",
      "  2%|▏         | 2/117 [00:00<00:06, 17.05it/s]"
     ]
    },
    {
     "name": "stdout",
     "output_type": "stream",
     "text": [
      "Epoch 53 of 301\n",
      "Generator loss: 2.98956728, Discriminator loss: 0.54070050\n"
     ]
    },
    {
     "name": "stderr",
     "output_type": "stream",
     "text": [
      "118it [00:06, 17.58it/s]                         \n",
      "  2%|▏         | 2/117 [00:00<00:06, 16.99it/s]"
     ]
    },
    {
     "name": "stdout",
     "output_type": "stream",
     "text": [
      "Epoch 54 of 301\n",
      "Generator loss: 2.85566640, Discriminator loss: 0.52927470\n"
     ]
    },
    {
     "name": "stderr",
     "output_type": "stream",
     "text": [
      "118it [00:06, 17.62it/s]                         \n",
      "  2%|▏         | 2/117 [00:00<00:06, 17.39it/s]"
     ]
    },
    {
     "name": "stdout",
     "output_type": "stream",
     "text": [
      "Epoch 55 of 301\n",
      "Generator loss: 2.97412801, Discriminator loss: 0.50801671\n"
     ]
    },
    {
     "name": "stderr",
     "output_type": "stream",
     "text": [
      "118it [00:06, 17.81it/s]                         \n",
      "  2%|▏         | 2/117 [00:00<00:06, 17.22it/s]"
     ]
    },
    {
     "name": "stdout",
     "output_type": "stream",
     "text": [
      "Epoch 56 of 301\n",
      "Generator loss: 2.97899723, Discriminator loss: 0.55998480\n"
     ]
    },
    {
     "name": "stderr",
     "output_type": "stream",
     "text": [
      "118it [00:06, 17.68it/s]                         \n",
      "  2%|▏         | 2/117 [00:00<00:06, 16.83it/s]"
     ]
    },
    {
     "name": "stdout",
     "output_type": "stream",
     "text": [
      "Epoch 57 of 301\n",
      "Generator loss: 2.64962173, Discriminator loss: 0.61831594\n"
     ]
    },
    {
     "name": "stderr",
     "output_type": "stream",
     "text": [
      "118it [00:06, 17.52it/s]                         \n",
      "  2%|▏         | 2/117 [00:00<00:06, 16.83it/s]"
     ]
    },
    {
     "name": "stdout",
     "output_type": "stream",
     "text": [
      "Epoch 58 of 301\n",
      "Generator loss: 2.65208912, Discriminator loss: 0.58308911\n"
     ]
    },
    {
     "name": "stderr",
     "output_type": "stream",
     "text": [
      "118it [00:06, 17.28it/s]                         \n",
      "  2%|▏         | 2/117 [00:00<00:06, 16.72it/s]"
     ]
    },
    {
     "name": "stdout",
     "output_type": "stream",
     "text": [
      "Epoch 59 of 301\n",
      "Generator loss: 2.58266950, Discriminator loss: 0.59195399\n"
     ]
    },
    {
     "name": "stderr",
     "output_type": "stream",
     "text": [
      "118it [00:06, 17.67it/s]                         \n",
      "  2%|▏         | 2/117 [00:00<00:06, 17.43it/s]"
     ]
    },
    {
     "name": "stdout",
     "output_type": "stream",
     "text": [
      "Epoch 60 of 301\n",
      "Generator loss: 2.53137231, Discriminator loss: 0.59076065\n"
     ]
    },
    {
     "name": "stderr",
     "output_type": "stream",
     "text": [
      "118it [00:06, 17.63it/s]                         \n",
      "  2%|▏         | 2/117 [00:00<00:06, 17.34it/s]"
     ]
    },
    {
     "name": "stdout",
     "output_type": "stream",
     "text": [
      "Epoch 61 of 301\n",
      "Generator loss: 2.66908836, Discriminator loss: 0.56204802\n"
     ]
    },
    {
     "name": "stderr",
     "output_type": "stream",
     "text": [
      "118it [00:06, 17.71it/s]                         \n",
      "  2%|▏         | 2/117 [00:00<00:06, 16.67it/s]"
     ]
    },
    {
     "name": "stdout",
     "output_type": "stream",
     "text": [
      "Epoch 62 of 301\n",
      "Generator loss: 2.58667421, Discriminator loss: 0.57480174\n"
     ]
    },
    {
     "name": "stderr",
     "output_type": "stream",
     "text": [
      "118it [00:06, 17.38it/s]                         \n",
      "  2%|▏         | 2/117 [00:00<00:06, 17.03it/s]"
     ]
    },
    {
     "name": "stdout",
     "output_type": "stream",
     "text": [
      "Epoch 63 of 301\n",
      "Generator loss: 2.72935081, Discriminator loss: 0.56820583\n"
     ]
    },
    {
     "name": "stderr",
     "output_type": "stream",
     "text": [
      "118it [00:06, 17.42it/s]                         \n",
      "  2%|▏         | 2/117 [00:00<00:06, 16.68it/s]"
     ]
    },
    {
     "name": "stdout",
     "output_type": "stream",
     "text": [
      "Epoch 64 of 301\n",
      "Generator loss: 2.62612820, Discriminator loss: 0.59471029\n"
     ]
    },
    {
     "name": "stderr",
     "output_type": "stream",
     "text": [
      "118it [00:06, 17.30it/s]                         \n",
      "  2%|▏         | 2/117 [00:00<00:07, 16.26it/s]"
     ]
    },
    {
     "name": "stdout",
     "output_type": "stream",
     "text": [
      "Epoch 65 of 301\n",
      "Generator loss: 2.57393241, Discriminator loss: 0.61875278\n"
     ]
    },
    {
     "name": "stderr",
     "output_type": "stream",
     "text": [
      "118it [00:06, 17.30it/s]                         \n",
      "  2%|▏         | 2/117 [00:00<00:06, 17.62it/s]"
     ]
    },
    {
     "name": "stdout",
     "output_type": "stream",
     "text": [
      "Epoch 66 of 301\n",
      "Generator loss: 2.46353030, Discriminator loss: 0.63123119\n"
     ]
    },
    {
     "name": "stderr",
     "output_type": "stream",
     "text": [
      "118it [00:06, 17.42it/s]                         \n",
      "  2%|▏         | 2/117 [00:00<00:06, 17.04it/s]"
     ]
    },
    {
     "name": "stdout",
     "output_type": "stream",
     "text": [
      "Epoch 67 of 301\n",
      "Generator loss: 2.43040752, Discriminator loss: 0.64738131\n"
     ]
    },
    {
     "name": "stderr",
     "output_type": "stream",
     "text": [
      "118it [00:06, 17.34it/s]                         \n",
      "  2%|▏         | 2/117 [00:00<00:06, 16.95it/s]"
     ]
    },
    {
     "name": "stdout",
     "output_type": "stream",
     "text": [
      "Epoch 68 of 301\n",
      "Generator loss: 2.50111985, Discriminator loss: 0.61086053\n"
     ]
    },
    {
     "name": "stderr",
     "output_type": "stream",
     "text": [
      "118it [00:06, 17.34it/s]                         \n",
      "  2%|▏         | 2/117 [00:00<00:06, 16.75it/s]"
     ]
    },
    {
     "name": "stdout",
     "output_type": "stream",
     "text": [
      "Epoch 69 of 301\n",
      "Generator loss: 2.46233153, Discriminator loss: 0.63380122\n"
     ]
    },
    {
     "name": "stderr",
     "output_type": "stream",
     "text": [
      "118it [00:06, 17.28it/s]                         \n",
      "  2%|▏         | 2/117 [00:00<00:06, 16.86it/s]"
     ]
    },
    {
     "name": "stdout",
     "output_type": "stream",
     "text": [
      "Epoch 70 of 301\n",
      "Generator loss: 2.36652803, Discriminator loss: 0.65496665\n"
     ]
    },
    {
     "name": "stderr",
     "output_type": "stream",
     "text": [
      "118it [00:06, 17.47it/s]                         \n",
      "  2%|▏         | 2/117 [00:00<00:06, 17.40it/s]"
     ]
    },
    {
     "name": "stdout",
     "output_type": "stream",
     "text": [
      "Epoch 71 of 301\n",
      "Generator loss: 2.40034795, Discriminator loss: 0.64323163\n"
     ]
    },
    {
     "name": "stderr",
     "output_type": "stream",
     "text": [
      "118it [00:06, 17.78it/s]                         \n",
      "  2%|▏         | 2/117 [00:00<00:06, 17.36it/s]"
     ]
    },
    {
     "name": "stdout",
     "output_type": "stream",
     "text": [
      "Epoch 72 of 301\n",
      "Generator loss: 2.39446688, Discriminator loss: 0.63699722\n"
     ]
    },
    {
     "name": "stderr",
     "output_type": "stream",
     "text": [
      "118it [00:06, 17.87it/s]                         \n",
      "  2%|▏         | 2/117 [00:00<00:06, 17.22it/s]"
     ]
    },
    {
     "name": "stdout",
     "output_type": "stream",
     "text": [
      "Epoch 73 of 301\n",
      "Generator loss: 2.35976243, Discriminator loss: 0.65425479\n"
     ]
    },
    {
     "name": "stderr",
     "output_type": "stream",
     "text": [
      "118it [00:06, 17.52it/s]                         \n",
      "  2%|▏         | 2/117 [00:00<00:06, 16.87it/s]"
     ]
    },
    {
     "name": "stdout",
     "output_type": "stream",
     "text": [
      "Epoch 74 of 301\n",
      "Generator loss: 2.27176952, Discriminator loss: 0.70305359\n"
     ]
    },
    {
     "name": "stderr",
     "output_type": "stream",
     "text": [
      "118it [00:06, 17.36it/s]                         \n",
      "  2%|▏         | 2/117 [00:00<00:06, 16.84it/s]"
     ]
    },
    {
     "name": "stdout",
     "output_type": "stream",
     "text": [
      "Epoch 75 of 301\n",
      "Generator loss: 2.21089864, Discriminator loss: 0.72276258\n"
     ]
    },
    {
     "name": "stderr",
     "output_type": "stream",
     "text": [
      "118it [00:06, 17.35it/s]                         \n",
      "  2%|▏         | 2/117 [00:00<00:06, 16.98it/s]"
     ]
    },
    {
     "name": "stdout",
     "output_type": "stream",
     "text": [
      "Epoch 76 of 301\n",
      "Generator loss: 2.13939786, Discriminator loss: 0.74568540\n"
     ]
    },
    {
     "name": "stderr",
     "output_type": "stream",
     "text": [
      "118it [00:06, 17.19it/s]                         \n",
      "  2%|▏         | 2/117 [00:00<00:06, 16.69it/s]"
     ]
    },
    {
     "name": "stdout",
     "output_type": "stream",
     "text": [
      "Epoch 77 of 301\n",
      "Generator loss: 2.22756100, Discriminator loss: 0.69191802\n"
     ]
    },
    {
     "name": "stderr",
     "output_type": "stream",
     "text": [
      "118it [00:06, 17.24it/s]                         \n",
      "  2%|▏         | 2/117 [00:00<00:06, 17.23it/s]"
     ]
    },
    {
     "name": "stdout",
     "output_type": "stream",
     "text": [
      "Epoch 78 of 301\n",
      "Generator loss: 2.25867152, Discriminator loss: 0.67384094\n"
     ]
    },
    {
     "name": "stderr",
     "output_type": "stream",
     "text": [
      "118it [00:06, 17.70it/s]                         \n",
      "  2%|▏         | 2/117 [00:00<00:06, 17.15it/s]"
     ]
    },
    {
     "name": "stdout",
     "output_type": "stream",
     "text": [
      "Epoch 79 of 301\n",
      "Generator loss: 2.17704129, Discriminator loss: 0.69498795\n"
     ]
    },
    {
     "name": "stderr",
     "output_type": "stream",
     "text": [
      "118it [00:06, 17.53it/s]                         \n",
      "  2%|▏         | 2/117 [00:00<00:07, 16.20it/s]"
     ]
    },
    {
     "name": "stdout",
     "output_type": "stream",
     "text": [
      "Epoch 80 of 301\n",
      "Generator loss: 2.29417419, Discriminator loss: 0.67279667\n"
     ]
    },
    {
     "name": "stderr",
     "output_type": "stream",
     "text": [
      "118it [00:06, 17.33it/s]                         \n",
      "  2%|▏         | 2/117 [00:00<00:06, 17.32it/s]"
     ]
    },
    {
     "name": "stdout",
     "output_type": "stream",
     "text": [
      "Epoch 81 of 301\n",
      "Generator loss: 2.28286290, Discriminator loss: 0.70772415\n"
     ]
    },
    {
     "name": "stderr",
     "output_type": "stream",
     "text": [
      "118it [00:06, 17.79it/s]                         \n",
      "  2%|▏         | 2/117 [00:00<00:06, 17.23it/s]"
     ]
    },
    {
     "name": "stdout",
     "output_type": "stream",
     "text": [
      "Epoch 82 of 301\n",
      "Generator loss: 2.11417723, Discriminator loss: 0.71168405\n"
     ]
    },
    {
     "name": "stderr",
     "output_type": "stream",
     "text": [
      "118it [00:06, 17.51it/s]                         \n",
      "  2%|▏         | 2/117 [00:00<00:06, 17.11it/s]"
     ]
    },
    {
     "name": "stdout",
     "output_type": "stream",
     "text": [
      "Epoch 83 of 301\n",
      "Generator loss: 2.12289691, Discriminator loss: 0.72084486\n"
     ]
    },
    {
     "name": "stderr",
     "output_type": "stream",
     "text": [
      "118it [00:06, 17.52it/s]                         \n",
      "  2%|▏         | 2/117 [00:00<00:06, 17.13it/s]"
     ]
    },
    {
     "name": "stdout",
     "output_type": "stream",
     "text": [
      "Epoch 84 of 301\n",
      "Generator loss: 2.11438680, Discriminator loss: 0.71764797\n"
     ]
    },
    {
     "name": "stderr",
     "output_type": "stream",
     "text": [
      "118it [00:06, 17.47it/s]                         \n",
      "  2%|▏         | 2/117 [00:00<00:06, 17.21it/s]"
     ]
    },
    {
     "name": "stdout",
     "output_type": "stream",
     "text": [
      "Epoch 85 of 301\n",
      "Generator loss: 2.12316847, Discriminator loss: 0.72395772\n"
     ]
    },
    {
     "name": "stderr",
     "output_type": "stream",
     "text": [
      "118it [00:06, 17.56it/s]                         \n",
      "  2%|▏         | 2/117 [00:00<00:06, 16.98it/s]"
     ]
    },
    {
     "name": "stdout",
     "output_type": "stream",
     "text": [
      "Epoch 86 of 301\n",
      "Generator loss: 2.06876707, Discriminator loss: 0.77289408\n"
     ]
    },
    {
     "name": "stderr",
     "output_type": "stream",
     "text": [
      "118it [00:06, 17.48it/s]                         \n",
      "  2%|▏         | 2/117 [00:00<00:06, 17.43it/s]"
     ]
    },
    {
     "name": "stdout",
     "output_type": "stream",
     "text": [
      "Epoch 87 of 301\n",
      "Generator loss: 2.17076159, Discriminator loss: 0.74344790\n"
     ]
    },
    {
     "name": "stderr",
     "output_type": "stream",
     "text": [
      "118it [00:06, 17.50it/s]                         \n",
      "  2%|▏         | 2/117 [00:00<00:06, 16.85it/s]"
     ]
    },
    {
     "name": "stdout",
     "output_type": "stream",
     "text": [
      "Epoch 88 of 301\n",
      "Generator loss: 2.08192444, Discriminator loss: 0.72427124\n"
     ]
    },
    {
     "name": "stderr",
     "output_type": "stream",
     "text": [
      "118it [00:06, 17.48it/s]                         \n",
      "  2%|▏         | 2/117 [00:00<00:06, 16.99it/s]"
     ]
    },
    {
     "name": "stdout",
     "output_type": "stream",
     "text": [
      "Epoch 89 of 301\n",
      "Generator loss: 2.07847309, Discriminator loss: 0.75857258\n"
     ]
    },
    {
     "name": "stderr",
     "output_type": "stream",
     "text": [
      "118it [00:06, 17.67it/s]                         \n",
      "  2%|▏         | 2/117 [00:00<00:06, 17.09it/s]"
     ]
    },
    {
     "name": "stdout",
     "output_type": "stream",
     "text": [
      "Epoch 90 of 301\n",
      "Generator loss: 2.05450249, Discriminator loss: 0.75061131\n"
     ]
    },
    {
     "name": "stderr",
     "output_type": "stream",
     "text": [
      "118it [00:06, 17.41it/s]                         \n",
      "  2%|▏         | 2/117 [00:00<00:06, 16.82it/s]"
     ]
    },
    {
     "name": "stdout",
     "output_type": "stream",
     "text": [
      "Epoch 91 of 301\n",
      "Generator loss: 2.06250429, Discriminator loss: 0.75088990\n"
     ]
    },
    {
     "name": "stderr",
     "output_type": "stream",
     "text": [
      "118it [00:06, 17.31it/s]                         \n",
      "  2%|▏         | 2/117 [00:00<00:06, 17.14it/s]"
     ]
    },
    {
     "name": "stdout",
     "output_type": "stream",
     "text": [
      "Epoch 92 of 301\n",
      "Generator loss: 1.90861249, Discriminator loss: 0.82981610\n"
     ]
    },
    {
     "name": "stderr",
     "output_type": "stream",
     "text": [
      "118it [00:06, 17.58it/s]                         \n",
      "  2%|▏         | 2/117 [00:00<00:06, 17.38it/s]"
     ]
    },
    {
     "name": "stdout",
     "output_type": "stream",
     "text": [
      "Epoch 93 of 301\n",
      "Generator loss: 1.91467607, Discriminator loss: 0.81630653\n"
     ]
    },
    {
     "name": "stderr",
     "output_type": "stream",
     "text": [
      "118it [00:06, 17.82it/s]                         \n",
      "  2%|▏         | 2/117 [00:00<00:06, 17.06it/s]"
     ]
    },
    {
     "name": "stdout",
     "output_type": "stream",
     "text": [
      "Epoch 94 of 301\n",
      "Generator loss: 1.93480623, Discriminator loss: 0.80003983\n"
     ]
    },
    {
     "name": "stderr",
     "output_type": "stream",
     "text": [
      "118it [00:06, 17.64it/s]                         \n",
      "  2%|▏         | 2/117 [00:00<00:06, 17.15it/s]"
     ]
    },
    {
     "name": "stdout",
     "output_type": "stream",
     "text": [
      "Epoch 95 of 301\n",
      "Generator loss: 2.00137639, Discriminator loss: 0.77453965\n"
     ]
    },
    {
     "name": "stderr",
     "output_type": "stream",
     "text": [
      "118it [00:06, 17.49it/s]                         \n",
      "  2%|▏         | 2/117 [00:00<00:06, 16.68it/s]"
     ]
    },
    {
     "name": "stdout",
     "output_type": "stream",
     "text": [
      "Epoch 96 of 301\n",
      "Generator loss: 1.96869648, Discriminator loss: 0.77124673\n"
     ]
    },
    {
     "name": "stderr",
     "output_type": "stream",
     "text": [
      "118it [00:06, 17.28it/s]                         \n",
      "  2%|▏         | 2/117 [00:00<00:06, 16.88it/s]"
     ]
    },
    {
     "name": "stdout",
     "output_type": "stream",
     "text": [
      "Epoch 97 of 301\n",
      "Generator loss: 2.02318430, Discriminator loss: 0.75125831\n"
     ]
    },
    {
     "name": "stderr",
     "output_type": "stream",
     "text": [
      "118it [00:06, 17.36it/s]                         \n",
      "  2%|▏         | 2/117 [00:00<00:06, 17.28it/s]"
     ]
    },
    {
     "name": "stdout",
     "output_type": "stream",
     "text": [
      "Epoch 98 of 301\n",
      "Generator loss: 2.13758826, Discriminator loss: 0.72738940\n"
     ]
    },
    {
     "name": "stderr",
     "output_type": "stream",
     "text": [
      "118it [00:06, 17.61it/s]                         \n",
      "  2%|▏         | 2/117 [00:00<00:06, 17.23it/s]"
     ]
    },
    {
     "name": "stdout",
     "output_type": "stream",
     "text": [
      "Epoch 99 of 301\n",
      "Generator loss: 2.14368272, Discriminator loss: 0.72716904\n"
     ]
    },
    {
     "name": "stderr",
     "output_type": "stream",
     "text": [
      "118it [00:06, 17.53it/s]                         \n",
      "  2%|▏         | 2/117 [00:00<00:06, 17.10it/s]"
     ]
    },
    {
     "name": "stdout",
     "output_type": "stream",
     "text": [
      "Epoch 100 of 301\n",
      "Generator loss: 1.92586863, Discriminator loss: 0.81548584\n"
     ]
    },
    {
     "name": "stderr",
     "output_type": "stream",
     "text": [
      "118it [00:06, 17.38it/s]                         \n",
      "  2%|▏         | 2/117 [00:00<00:06, 16.72it/s]"
     ]
    },
    {
     "name": "stdout",
     "output_type": "stream",
     "text": [
      "Epoch 101 of 301\n",
      "Generator loss: 1.88993263, Discriminator loss: 0.81897914\n"
     ]
    },
    {
     "name": "stderr",
     "output_type": "stream",
     "text": [
      "118it [00:06, 17.69it/s]                         \n",
      "  2%|▏         | 2/117 [00:00<00:06, 17.46it/s]"
     ]
    },
    {
     "name": "stdout",
     "output_type": "stream",
     "text": [
      "Epoch 102 of 301\n",
      "Generator loss: 1.95191944, Discriminator loss: 0.78784990\n"
     ]
    },
    {
     "name": "stderr",
     "output_type": "stream",
     "text": [
      "118it [00:06, 17.57it/s]                         \n",
      "  2%|▏         | 2/117 [00:00<00:06, 16.95it/s]"
     ]
    },
    {
     "name": "stdout",
     "output_type": "stream",
     "text": [
      "Epoch 103 of 301\n",
      "Generator loss: 2.00591326, Discriminator loss: 0.79469544\n"
     ]
    },
    {
     "name": "stderr",
     "output_type": "stream",
     "text": [
      "118it [00:06, 17.33it/s]                         \n",
      "  2%|▏         | 2/117 [00:00<00:06, 16.63it/s]"
     ]
    },
    {
     "name": "stdout",
     "output_type": "stream",
     "text": [
      "Epoch 104 of 301\n",
      "Generator loss: 2.01465154, Discriminator loss: 0.79802197\n"
     ]
    },
    {
     "name": "stderr",
     "output_type": "stream",
     "text": [
      "118it [00:06, 17.29it/s]                         \n",
      "  2%|▏         | 2/117 [00:00<00:06, 17.09it/s]"
     ]
    },
    {
     "name": "stdout",
     "output_type": "stream",
     "text": [
      "Epoch 105 of 301\n",
      "Generator loss: 1.86215842, Discriminator loss: 0.82035005\n"
     ]
    },
    {
     "name": "stderr",
     "output_type": "stream",
     "text": [
      "118it [00:06, 17.46it/s]                         \n",
      "  2%|▏         | 2/117 [00:00<00:06, 17.05it/s]"
     ]
    },
    {
     "name": "stdout",
     "output_type": "stream",
     "text": [
      "Epoch 106 of 301\n",
      "Generator loss: 1.94541979, Discriminator loss: 0.79455149\n"
     ]
    },
    {
     "name": "stderr",
     "output_type": "stream",
     "text": [
      "118it [00:06, 17.50it/s]                         \n",
      "  2%|▏         | 2/117 [00:00<00:06, 17.23it/s]"
     ]
    },
    {
     "name": "stdout",
     "output_type": "stream",
     "text": [
      "Epoch 107 of 301\n",
      "Generator loss: 1.86745298, Discriminator loss: 0.80224156\n"
     ]
    },
    {
     "name": "stderr",
     "output_type": "stream",
     "text": [
      "118it [00:06, 17.56it/s]                         \n",
      "  2%|▏         | 2/117 [00:00<00:06, 17.13it/s]"
     ]
    },
    {
     "name": "stdout",
     "output_type": "stream",
     "text": [
      "Epoch 108 of 301\n",
      "Generator loss: 1.96774840, Discriminator loss: 0.81049746\n"
     ]
    },
    {
     "name": "stderr",
     "output_type": "stream",
     "text": [
      "118it [00:06, 17.63it/s]                         \n",
      "  2%|▏         | 2/117 [00:00<00:06, 17.13it/s]"
     ]
    },
    {
     "name": "stdout",
     "output_type": "stream",
     "text": [
      "Epoch 109 of 301\n",
      "Generator loss: 1.84077811, Discriminator loss: 0.85650080\n"
     ]
    },
    {
     "name": "stderr",
     "output_type": "stream",
     "text": [
      "118it [00:06, 17.50it/s]                         \n",
      "  2%|▏         | 2/117 [00:00<00:06, 16.83it/s]"
     ]
    },
    {
     "name": "stdout",
     "output_type": "stream",
     "text": [
      "Epoch 110 of 301\n",
      "Generator loss: 1.82562220, Discriminator loss: 0.85294992\n"
     ]
    },
    {
     "name": "stderr",
     "output_type": "stream",
     "text": [
      "118it [00:06, 17.51it/s]                         \n",
      "  2%|▏         | 2/117 [00:00<00:06, 17.07it/s]"
     ]
    },
    {
     "name": "stdout",
     "output_type": "stream",
     "text": [
      "Epoch 111 of 301\n",
      "Generator loss: 1.80850184, Discriminator loss: 0.85253596\n"
     ]
    },
    {
     "name": "stderr",
     "output_type": "stream",
     "text": [
      "118it [00:06, 17.25it/s]                         \n",
      "  2%|▏         | 2/117 [00:00<00:06, 16.99it/s]"
     ]
    },
    {
     "name": "stdout",
     "output_type": "stream",
     "text": [
      "Epoch 112 of 301\n",
      "Generator loss: 1.87529695, Discriminator loss: 0.81046194\n"
     ]
    },
    {
     "name": "stderr",
     "output_type": "stream",
     "text": [
      "118it [00:06, 17.28it/s]                         \n",
      "  2%|▏         | 2/117 [00:00<00:06, 16.88it/s]"
     ]
    },
    {
     "name": "stdout",
     "output_type": "stream",
     "text": [
      "Epoch 113 of 301\n",
      "Generator loss: 1.90365326, Discriminator loss: 0.80768591\n"
     ]
    },
    {
     "name": "stderr",
     "output_type": "stream",
     "text": [
      "118it [00:06, 17.55it/s]                         \n",
      "  2%|▏         | 2/117 [00:00<00:06, 16.79it/s]"
     ]
    },
    {
     "name": "stdout",
     "output_type": "stream",
     "text": [
      "Epoch 114 of 301\n",
      "Generator loss: 1.79113030, Discriminator loss: 0.84457982\n"
     ]
    },
    {
     "name": "stderr",
     "output_type": "stream",
     "text": [
      "118it [00:06, 17.27it/s]                         \n",
      "  2%|▏         | 2/117 [00:00<00:06, 17.05it/s]"
     ]
    },
    {
     "name": "stdout",
     "output_type": "stream",
     "text": [
      "Epoch 115 of 301\n",
      "Generator loss: 1.85687041, Discriminator loss: 0.82356137\n"
     ]
    },
    {
     "name": "stderr",
     "output_type": "stream",
     "text": [
      "118it [00:06, 17.30it/s]                         \n",
      "  2%|▏         | 2/117 [00:00<00:06, 17.00it/s]"
     ]
    },
    {
     "name": "stdout",
     "output_type": "stream",
     "text": [
      "Epoch 116 of 301\n",
      "Generator loss: 1.81408322, Discriminator loss: 0.84993899\n"
     ]
    },
    {
     "name": "stderr",
     "output_type": "stream",
     "text": [
      "118it [00:06, 17.64it/s]                         \n",
      "  2%|▏         | 2/117 [00:00<00:06, 16.84it/s]"
     ]
    },
    {
     "name": "stdout",
     "output_type": "stream",
     "text": [
      "Epoch 117 of 301\n",
      "Generator loss: 1.86656475, Discriminator loss: 0.83464438\n"
     ]
    },
    {
     "name": "stderr",
     "output_type": "stream",
     "text": [
      "118it [00:06, 17.50it/s]                         \n",
      "  2%|▏         | 2/117 [00:00<00:06, 17.06it/s]"
     ]
    },
    {
     "name": "stdout",
     "output_type": "stream",
     "text": [
      "Epoch 118 of 301\n",
      "Generator loss: 1.80638778, Discriminator loss: 0.84283340\n"
     ]
    },
    {
     "name": "stderr",
     "output_type": "stream",
     "text": [
      "118it [00:06, 17.26it/s]                         \n",
      "  2%|▏         | 2/117 [00:00<00:06, 17.23it/s]"
     ]
    },
    {
     "name": "stdout",
     "output_type": "stream",
     "text": [
      "Epoch 119 of 301\n",
      "Generator loss: 1.85013723, Discriminator loss: 0.83053595\n"
     ]
    },
    {
     "name": "stderr",
     "output_type": "stream",
     "text": [
      "118it [00:06, 17.44it/s]                         \n",
      "  2%|▏         | 2/117 [00:00<00:06, 16.91it/s]"
     ]
    },
    {
     "name": "stdout",
     "output_type": "stream",
     "text": [
      "Epoch 120 of 301\n",
      "Generator loss: 1.77683651, Discriminator loss: 0.85404581\n"
     ]
    },
    {
     "name": "stderr",
     "output_type": "stream",
     "text": [
      "118it [00:06, 17.35it/s]                         \n",
      "  2%|▏         | 2/117 [00:00<00:06, 17.10it/s]"
     ]
    },
    {
     "name": "stdout",
     "output_type": "stream",
     "text": [
      "Epoch 121 of 301\n",
      "Generator loss: 1.72422457, Discriminator loss: 0.87329215\n"
     ]
    },
    {
     "name": "stderr",
     "output_type": "stream",
     "text": [
      "118it [00:06, 17.37it/s]                         \n",
      "  2%|▏         | 2/117 [00:00<00:06, 16.78it/s]"
     ]
    },
    {
     "name": "stdout",
     "output_type": "stream",
     "text": [
      "Epoch 122 of 301\n",
      "Generator loss: 1.70554280, Discriminator loss: 0.89357585\n"
     ]
    },
    {
     "name": "stderr",
     "output_type": "stream",
     "text": [
      "118it [00:06, 17.40it/s]                         \n",
      "  2%|▏         | 2/117 [00:00<00:06, 17.24it/s]"
     ]
    },
    {
     "name": "stdout",
     "output_type": "stream",
     "text": [
      "Epoch 123 of 301\n",
      "Generator loss: 1.73468578, Discriminator loss: 0.87329239\n"
     ]
    },
    {
     "name": "stderr",
     "output_type": "stream",
     "text": [
      "118it [00:06, 17.43it/s]                         \n",
      "  2%|▏         | 2/117 [00:00<00:06, 17.33it/s]"
     ]
    },
    {
     "name": "stdout",
     "output_type": "stream",
     "text": [
      "Epoch 124 of 301\n",
      "Generator loss: 1.71378565, Discriminator loss: 0.88072848\n"
     ]
    },
    {
     "name": "stderr",
     "output_type": "stream",
     "text": [
      "118it [00:06, 17.20it/s]                         \n",
      "  2%|▏         | 2/117 [00:00<00:07, 16.11it/s]"
     ]
    },
    {
     "name": "stdout",
     "output_type": "stream",
     "text": [
      "Epoch 125 of 301\n",
      "Generator loss: 1.72518516, Discriminator loss: 0.87299395\n"
     ]
    },
    {
     "name": "stderr",
     "output_type": "stream",
     "text": [
      "118it [00:06, 17.44it/s]                         \n",
      "  2%|▏         | 2/117 [00:00<00:06, 17.40it/s]"
     ]
    },
    {
     "name": "stdout",
     "output_type": "stream",
     "text": [
      "Epoch 126 of 301\n",
      "Generator loss: 1.69587255, Discriminator loss: 0.87518275\n"
     ]
    },
    {
     "name": "stderr",
     "output_type": "stream",
     "text": [
      "118it [00:06, 17.30it/s]                         \n",
      "  2%|▏         | 2/117 [00:00<00:06, 17.13it/s]"
     ]
    },
    {
     "name": "stdout",
     "output_type": "stream",
     "text": [
      "Epoch 127 of 301\n",
      "Generator loss: 1.65300906, Discriminator loss: 0.91702658\n"
     ]
    },
    {
     "name": "stderr",
     "output_type": "stream",
     "text": [
      "118it [00:06, 17.74it/s]                         \n",
      "  2%|▏         | 2/117 [00:00<00:06, 16.98it/s]"
     ]
    },
    {
     "name": "stdout",
     "output_type": "stream",
     "text": [
      "Epoch 128 of 301\n",
      "Generator loss: 1.66500497, Discriminator loss: 0.91330093\n"
     ]
    },
    {
     "name": "stderr",
     "output_type": "stream",
     "text": [
      "118it [00:06, 17.71it/s]                         \n",
      "  2%|▏         | 2/117 [00:00<00:06, 17.46it/s]"
     ]
    },
    {
     "name": "stdout",
     "output_type": "stream",
     "text": [
      "Epoch 129 of 301\n",
      "Generator loss: 1.62924516, Discriminator loss: 0.92205822\n"
     ]
    },
    {
     "name": "stderr",
     "output_type": "stream",
     "text": [
      "118it [00:06, 17.24it/s]                         \n",
      "  2%|▏         | 2/117 [00:00<00:07, 16.31it/s]"
     ]
    },
    {
     "name": "stdout",
     "output_type": "stream",
     "text": [
      "Epoch 130 of 301\n",
      "Generator loss: 1.66233146, Discriminator loss: 0.92971337\n"
     ]
    },
    {
     "name": "stderr",
     "output_type": "stream",
     "text": [
      "118it [00:06, 17.31it/s]                         \n",
      "  2%|▏         | 2/117 [00:00<00:06, 17.03it/s]"
     ]
    },
    {
     "name": "stdout",
     "output_type": "stream",
     "text": [
      "Epoch 131 of 301\n",
      "Generator loss: 1.66208756, Discriminator loss: 0.92153096\n"
     ]
    },
    {
     "name": "stderr",
     "output_type": "stream",
     "text": [
      "118it [00:06, 17.43it/s]                         \n",
      "  2%|▏         | 2/117 [00:00<00:06, 17.33it/s]"
     ]
    },
    {
     "name": "stdout",
     "output_type": "stream",
     "text": [
      "Epoch 132 of 301\n",
      "Generator loss: 1.63936245, Discriminator loss: 0.90538007\n"
     ]
    },
    {
     "name": "stderr",
     "output_type": "stream",
     "text": [
      "118it [00:06, 17.50it/s]                         \n",
      "  2%|▏         | 2/117 [00:00<00:06, 17.01it/s]"
     ]
    },
    {
     "name": "stdout",
     "output_type": "stream",
     "text": [
      "Epoch 133 of 301\n",
      "Generator loss: 1.66777778, Discriminator loss: 0.92529255\n"
     ]
    },
    {
     "name": "stderr",
     "output_type": "stream",
     "text": [
      "118it [00:06, 17.25it/s]                         \n",
      "  2%|▏         | 2/117 [00:00<00:06, 16.90it/s]"
     ]
    },
    {
     "name": "stdout",
     "output_type": "stream",
     "text": [
      "Epoch 134 of 301\n",
      "Generator loss: 1.64572191, Discriminator loss: 0.92739749\n"
     ]
    },
    {
     "name": "stderr",
     "output_type": "stream",
     "text": [
      "118it [00:06, 17.31it/s]                         \n",
      "  2%|▏         | 2/117 [00:00<00:06, 17.11it/s]"
     ]
    },
    {
     "name": "stdout",
     "output_type": "stream",
     "text": [
      "Epoch 135 of 301\n",
      "Generator loss: 1.60875666, Discriminator loss: 0.92686415\n"
     ]
    },
    {
     "name": "stderr",
     "output_type": "stream",
     "text": [
      "118it [00:06, 17.39it/s]                         \n",
      "  2%|▏         | 2/117 [00:00<00:06, 17.02it/s]"
     ]
    },
    {
     "name": "stdout",
     "output_type": "stream",
     "text": [
      "Epoch 136 of 301\n",
      "Generator loss: 1.56788671, Discriminator loss: 0.92812252\n"
     ]
    },
    {
     "name": "stderr",
     "output_type": "stream",
     "text": [
      "118it [00:06, 17.51it/s]                         \n",
      "  2%|▏         | 2/117 [00:00<00:06, 17.01it/s]"
     ]
    },
    {
     "name": "stdout",
     "output_type": "stream",
     "text": [
      "Epoch 137 of 301\n",
      "Generator loss: 1.59829247, Discriminator loss: 0.93357706\n"
     ]
    },
    {
     "name": "stderr",
     "output_type": "stream",
     "text": [
      "118it [00:06, 17.30it/s]                         \n",
      "  2%|▏         | 2/117 [00:00<00:06, 17.30it/s]"
     ]
    },
    {
     "name": "stdout",
     "output_type": "stream",
     "text": [
      "Epoch 138 of 301\n",
      "Generator loss: 1.63159478, Discriminator loss: 0.91262650\n"
     ]
    },
    {
     "name": "stderr",
     "output_type": "stream",
     "text": [
      "118it [00:06, 17.51it/s]                         \n",
      "  2%|▏         | 2/117 [00:00<00:06, 17.02it/s]"
     ]
    },
    {
     "name": "stdout",
     "output_type": "stream",
     "text": [
      "Epoch 139 of 301\n",
      "Generator loss: 1.65122926, Discriminator loss: 0.90941072\n"
     ]
    },
    {
     "name": "stderr",
     "output_type": "stream",
     "text": [
      "118it [00:06, 17.30it/s]                         \n",
      "  2%|▏         | 2/117 [00:00<00:06, 16.82it/s]"
     ]
    },
    {
     "name": "stdout",
     "output_type": "stream",
     "text": [
      "Epoch 140 of 301\n",
      "Generator loss: 1.62399459, Discriminator loss: 0.92336637\n"
     ]
    },
    {
     "name": "stderr",
     "output_type": "stream",
     "text": [
      "118it [00:06, 17.14it/s]                         \n",
      "  2%|▏         | 2/117 [00:00<00:06, 16.66it/s]"
     ]
    },
    {
     "name": "stdout",
     "output_type": "stream",
     "text": [
      "Epoch 141 of 301\n",
      "Generator loss: 1.60080743, Discriminator loss: 0.93355638\n"
     ]
    },
    {
     "name": "stderr",
     "output_type": "stream",
     "text": [
      "118it [00:06, 17.51it/s]                         \n",
      "  2%|▏         | 2/117 [00:00<00:06, 17.01it/s]"
     ]
    },
    {
     "name": "stdout",
     "output_type": "stream",
     "text": [
      "Epoch 142 of 301\n",
      "Generator loss: 1.58916128, Discriminator loss: 0.94812191\n"
     ]
    },
    {
     "name": "stderr",
     "output_type": "stream",
     "text": [
      "118it [00:06, 17.76it/s]                         \n",
      "  2%|▏         | 2/117 [00:00<00:06, 16.87it/s]"
     ]
    },
    {
     "name": "stdout",
     "output_type": "stream",
     "text": [
      "Epoch 143 of 301\n",
      "Generator loss: 1.58434975, Discriminator loss: 0.95132381\n"
     ]
    },
    {
     "name": "stderr",
     "output_type": "stream",
     "text": [
      "118it [00:06, 17.29it/s]                         \n",
      "  2%|▏         | 2/117 [00:00<00:06, 17.27it/s]"
     ]
    },
    {
     "name": "stdout",
     "output_type": "stream",
     "text": [
      "Epoch 144 of 301\n",
      "Generator loss: 1.53850877, Discriminator loss: 0.94776630\n"
     ]
    },
    {
     "name": "stderr",
     "output_type": "stream",
     "text": [
      "118it [00:06, 17.74it/s]                         \n",
      "  2%|▏         | 2/117 [00:00<00:06, 17.33it/s]"
     ]
    },
    {
     "name": "stdout",
     "output_type": "stream",
     "text": [
      "Epoch 145 of 301\n",
      "Generator loss: 1.58452129, Discriminator loss: 0.92994100\n"
     ]
    },
    {
     "name": "stderr",
     "output_type": "stream",
     "text": [
      "118it [00:06, 17.73it/s]                         \n",
      "  2%|▏         | 2/117 [00:00<00:06, 17.13it/s]"
     ]
    },
    {
     "name": "stdout",
     "output_type": "stream",
     "text": [
      "Epoch 146 of 301\n",
      "Generator loss: 1.52199507, Discriminator loss: 0.95629650\n"
     ]
    },
    {
     "name": "stderr",
     "output_type": "stream",
     "text": [
      "118it [00:06, 17.13it/s]                         \n",
      "  2%|▏         | 2/117 [00:00<00:06, 17.12it/s]"
     ]
    },
    {
     "name": "stdout",
     "output_type": "stream",
     "text": [
      "Epoch 147 of 301\n",
      "Generator loss: 1.58803439, Discriminator loss: 0.95653009\n"
     ]
    },
    {
     "name": "stderr",
     "output_type": "stream",
     "text": [
      "118it [00:06, 17.17it/s]                         \n",
      "  2%|▏         | 2/117 [00:00<00:06, 17.14it/s]"
     ]
    },
    {
     "name": "stdout",
     "output_type": "stream",
     "text": [
      "Epoch 148 of 301\n",
      "Generator loss: 1.53974044, Discriminator loss: 0.96304423\n"
     ]
    },
    {
     "name": "stderr",
     "output_type": "stream",
     "text": [
      "118it [00:06, 17.38it/s]                         \n",
      "  2%|▏         | 2/117 [00:00<00:06, 16.65it/s]"
     ]
    },
    {
     "name": "stdout",
     "output_type": "stream",
     "text": [
      "Epoch 149 of 301\n",
      "Generator loss: 1.50053489, Discriminator loss: 0.97410548\n"
     ]
    },
    {
     "name": "stderr",
     "output_type": "stream",
     "text": [
      "118it [00:06, 16.99it/s]                         \n",
      "  2%|▏         | 2/117 [00:00<00:06, 16.94it/s]"
     ]
    },
    {
     "name": "stdout",
     "output_type": "stream",
     "text": [
      "Epoch 150 of 301\n",
      "Generator loss: 1.55457044, Discriminator loss: 0.96379173\n"
     ]
    },
    {
     "name": "stderr",
     "output_type": "stream",
     "text": [
      "118it [00:06, 17.06it/s]                         \n",
      "  2%|▏         | 2/117 [00:00<00:07, 16.03it/s]"
     ]
    },
    {
     "name": "stdout",
     "output_type": "stream",
     "text": [
      "Epoch 151 of 301\n",
      "Generator loss: 1.44871449, Discriminator loss: 0.99473804\n"
     ]
    },
    {
     "name": "stderr",
     "output_type": "stream",
     "text": [
      "118it [00:06, 16.89it/s]                         \n",
      "  2%|▏         | 2/117 [00:00<00:07, 16.18it/s]"
     ]
    },
    {
     "name": "stdout",
     "output_type": "stream",
     "text": [
      "Epoch 152 of 301\n",
      "Generator loss: 1.43477726, Discriminator loss: 0.99868739\n"
     ]
    },
    {
     "name": "stderr",
     "output_type": "stream",
     "text": [
      "118it [00:06, 17.30it/s]                         \n",
      "  2%|▏         | 2/117 [00:00<00:06, 16.98it/s]"
     ]
    },
    {
     "name": "stdout",
     "output_type": "stream",
     "text": [
      "Epoch 153 of 301\n",
      "Generator loss: 1.46205556, Discriminator loss: 0.98967147\n"
     ]
    },
    {
     "name": "stderr",
     "output_type": "stream",
     "text": [
      "118it [00:06, 17.06it/s]                         \n",
      "  2%|▏         | 2/117 [00:00<00:06, 16.55it/s]"
     ]
    },
    {
     "name": "stdout",
     "output_type": "stream",
     "text": [
      "Epoch 154 of 301\n",
      "Generator loss: 1.44376194, Discriminator loss: 1.01399195\n"
     ]
    },
    {
     "name": "stderr",
     "output_type": "stream",
     "text": [
      "118it [00:06, 16.94it/s]                         \n",
      "  2%|▏         | 2/117 [00:00<00:06, 16.85it/s]"
     ]
    },
    {
     "name": "stdout",
     "output_type": "stream",
     "text": [
      "Epoch 155 of 301\n",
      "Generator loss: 1.43098176, Discriminator loss: 1.00993991\n"
     ]
    },
    {
     "name": "stderr",
     "output_type": "stream",
     "text": [
      "118it [00:06, 17.11it/s]                         \n",
      "  2%|▏         | 2/117 [00:00<00:07, 16.13it/s]"
     ]
    },
    {
     "name": "stdout",
     "output_type": "stream",
     "text": [
      "Epoch 156 of 301\n",
      "Generator loss: 1.44273853, Discriminator loss: 0.99453592\n"
     ]
    },
    {
     "name": "stderr",
     "output_type": "stream",
     "text": [
      "118it [00:06, 17.06it/s]                         \n",
      "  2%|▏         | 2/117 [00:00<00:07, 16.33it/s]"
     ]
    },
    {
     "name": "stdout",
     "output_type": "stream",
     "text": [
      "Epoch 157 of 301\n",
      "Generator loss: 1.43853176, Discriminator loss: 1.00541008\n"
     ]
    },
    {
     "name": "stderr",
     "output_type": "stream",
     "text": [
      "118it [00:06, 16.91it/s]                         \n",
      "  2%|▏         | 2/117 [00:00<00:07, 16.32it/s]"
     ]
    },
    {
     "name": "stdout",
     "output_type": "stream",
     "text": [
      "Epoch 158 of 301\n",
      "Generator loss: 1.36804569, Discriminator loss: 1.03630042\n"
     ]
    },
    {
     "name": "stderr",
     "output_type": "stream",
     "text": [
      "118it [00:06, 17.20it/s]                         \n",
      "  2%|▏         | 2/117 [00:00<00:06, 16.45it/s]"
     ]
    },
    {
     "name": "stdout",
     "output_type": "stream",
     "text": [
      "Epoch 159 of 301\n",
      "Generator loss: 1.42958689, Discriminator loss: 1.01207864\n"
     ]
    },
    {
     "name": "stderr",
     "output_type": "stream",
     "text": [
      "118it [00:06, 16.99it/s]                         \n",
      "  2%|▏         | 2/117 [00:00<00:07, 15.65it/s]"
     ]
    },
    {
     "name": "stdout",
     "output_type": "stream",
     "text": [
      "Epoch 160 of 301\n",
      "Generator loss: 1.42457664, Discriminator loss: 1.01314807\n"
     ]
    },
    {
     "name": "stderr",
     "output_type": "stream",
     "text": [
      "118it [00:07, 16.53it/s]                         \n",
      "  2%|▏         | 2/117 [00:00<00:06, 16.91it/s]"
     ]
    },
    {
     "name": "stdout",
     "output_type": "stream",
     "text": [
      "Epoch 161 of 301\n",
      "Generator loss: 1.43960822, Discriminator loss: 1.02009702\n"
     ]
    },
    {
     "name": "stderr",
     "output_type": "stream",
     "text": [
      "118it [00:06, 17.29it/s]                         \n",
      "  2%|▏         | 2/117 [00:00<00:06, 17.04it/s]"
     ]
    },
    {
     "name": "stdout",
     "output_type": "stream",
     "text": [
      "Epoch 162 of 301\n",
      "Generator loss: 1.42321730, Discriminator loss: 1.01360393\n"
     ]
    },
    {
     "name": "stderr",
     "output_type": "stream",
     "text": [
      "118it [00:06, 17.23it/s]                         \n",
      "  2%|▏         | 2/117 [00:00<00:06, 16.66it/s]"
     ]
    },
    {
     "name": "stdout",
     "output_type": "stream",
     "text": [
      "Epoch 163 of 301\n",
      "Generator loss: 1.38227165, Discriminator loss: 1.02284253\n"
     ]
    },
    {
     "name": "stderr",
     "output_type": "stream",
     "text": [
      "118it [00:06, 17.67it/s]                         \n",
      "  2%|▏         | 2/117 [00:00<00:06, 17.42it/s]"
     ]
    },
    {
     "name": "stdout",
     "output_type": "stream",
     "text": [
      "Epoch 164 of 301\n",
      "Generator loss: 1.37628901, Discriminator loss: 1.03587854\n"
     ]
    },
    {
     "name": "stderr",
     "output_type": "stream",
     "text": [
      "118it [00:06, 17.40it/s]                         \n",
      "  2%|▏         | 2/117 [00:00<00:06, 16.64it/s]"
     ]
    },
    {
     "name": "stdout",
     "output_type": "stream",
     "text": [
      "Epoch 165 of 301\n",
      "Generator loss: 1.42289925, Discriminator loss: 1.01549864\n"
     ]
    },
    {
     "name": "stderr",
     "output_type": "stream",
     "text": [
      "118it [00:06, 17.24it/s]                         \n",
      "  2%|▏         | 2/117 [00:00<00:06, 16.43it/s]"
     ]
    },
    {
     "name": "stdout",
     "output_type": "stream",
     "text": [
      "Epoch 166 of 301\n",
      "Generator loss: 1.40605223, Discriminator loss: 1.03506374\n"
     ]
    },
    {
     "name": "stderr",
     "output_type": "stream",
     "text": [
      "118it [00:06, 17.57it/s]                         \n",
      "  2%|▏         | 2/117 [00:00<00:06, 17.42it/s]"
     ]
    },
    {
     "name": "stdout",
     "output_type": "stream",
     "text": [
      "Epoch 167 of 301\n",
      "Generator loss: 1.33764720, Discriminator loss: 1.04754591\n"
     ]
    },
    {
     "name": "stderr",
     "output_type": "stream",
     "text": [
      "118it [00:06, 17.71it/s]                         \n",
      "  2%|▏         | 2/117 [00:00<00:06, 17.06it/s]"
     ]
    },
    {
     "name": "stdout",
     "output_type": "stream",
     "text": [
      "Epoch 168 of 301\n",
      "Generator loss: 1.40930974, Discriminator loss: 1.02715671\n"
     ]
    },
    {
     "name": "stderr",
     "output_type": "stream",
     "text": [
      "118it [00:06, 17.50it/s]                         \n",
      "  2%|▏         | 2/117 [00:00<00:06, 17.21it/s]"
     ]
    },
    {
     "name": "stdout",
     "output_type": "stream",
     "text": [
      "Epoch 169 of 301\n",
      "Generator loss: 1.35608637, Discriminator loss: 1.04639244\n"
     ]
    },
    {
     "name": "stderr",
     "output_type": "stream",
     "text": [
      "118it [00:06, 17.65it/s]                         \n",
      "  2%|▏         | 2/117 [00:00<00:06, 16.97it/s]"
     ]
    },
    {
     "name": "stdout",
     "output_type": "stream",
     "text": [
      "Epoch 170 of 301\n",
      "Generator loss: 1.36742067, Discriminator loss: 1.03569257\n"
     ]
    },
    {
     "name": "stderr",
     "output_type": "stream",
     "text": [
      "118it [00:06, 17.48it/s]                         \n",
      "  2%|▏         | 2/117 [00:00<00:06, 17.19it/s]"
     ]
    },
    {
     "name": "stdout",
     "output_type": "stream",
     "text": [
      "Epoch 171 of 301\n",
      "Generator loss: 1.40049493, Discriminator loss: 1.02061594\n"
     ]
    },
    {
     "name": "stderr",
     "output_type": "stream",
     "text": [
      "118it [00:06, 17.52it/s]                         \n",
      "  2%|▏         | 2/117 [00:00<00:06, 17.14it/s]"
     ]
    },
    {
     "name": "stdout",
     "output_type": "stream",
     "text": [
      "Epoch 172 of 301\n",
      "Generator loss: 1.36692655, Discriminator loss: 1.02816331\n"
     ]
    },
    {
     "name": "stderr",
     "output_type": "stream",
     "text": [
      "118it [00:06, 17.41it/s]                         \n",
      "  2%|▏         | 2/117 [00:00<00:06, 16.91it/s]"
     ]
    },
    {
     "name": "stdout",
     "output_type": "stream",
     "text": [
      "Epoch 173 of 301\n",
      "Generator loss: 1.36088431, Discriminator loss: 1.03793037\n"
     ]
    },
    {
     "name": "stderr",
     "output_type": "stream",
     "text": [
      "118it [00:06, 17.53it/s]                         \n",
      "  2%|▏         | 2/117 [00:00<00:06, 16.90it/s]"
     ]
    },
    {
     "name": "stdout",
     "output_type": "stream",
     "text": [
      "Epoch 174 of 301\n",
      "Generator loss: 1.36618102, Discriminator loss: 1.04828155\n"
     ]
    },
    {
     "name": "stderr",
     "output_type": "stream",
     "text": [
      "118it [00:06, 17.35it/s]                         \n",
      "  2%|▏         | 2/117 [00:00<00:06, 17.21it/s]"
     ]
    },
    {
     "name": "stdout",
     "output_type": "stream",
     "text": [
      "Epoch 175 of 301\n",
      "Generator loss: 1.35889995, Discriminator loss: 1.03293180\n"
     ]
    },
    {
     "name": "stderr",
     "output_type": "stream",
     "text": [
      "118it [00:06, 17.43it/s]                         \n",
      "  2%|▏         | 2/117 [00:00<00:06, 17.05it/s]"
     ]
    },
    {
     "name": "stdout",
     "output_type": "stream",
     "text": [
      "Epoch 176 of 301\n",
      "Generator loss: 1.38067842, Discriminator loss: 1.04129446\n"
     ]
    },
    {
     "name": "stderr",
     "output_type": "stream",
     "text": [
      "118it [00:06, 17.60it/s]                         \n",
      "  2%|▏         | 2/117 [00:00<00:06, 16.98it/s]"
     ]
    },
    {
     "name": "stdout",
     "output_type": "stream",
     "text": [
      "Epoch 177 of 301\n",
      "Generator loss: 1.40195739, Discriminator loss: 1.02743614\n"
     ]
    },
    {
     "name": "stderr",
     "output_type": "stream",
     "text": [
      "118it [00:06, 17.39it/s]                         \n",
      "  2%|▏         | 2/117 [00:00<00:06, 16.74it/s]"
     ]
    },
    {
     "name": "stdout",
     "output_type": "stream",
     "text": [
      "Epoch 178 of 301\n",
      "Generator loss: 1.34194207, Discriminator loss: 1.05534184\n"
     ]
    },
    {
     "name": "stderr",
     "output_type": "stream",
     "text": [
      "118it [00:06, 17.46it/s]                         \n",
      "  2%|▏         | 2/117 [00:00<00:06, 16.65it/s]"
     ]
    },
    {
     "name": "stdout",
     "output_type": "stream",
     "text": [
      "Epoch 179 of 301\n",
      "Generator loss: 1.35312462, Discriminator loss: 1.04839540\n"
     ]
    },
    {
     "name": "stderr",
     "output_type": "stream",
     "text": [
      "118it [00:07, 16.81it/s]                         \n",
      "  2%|▏         | 2/117 [00:00<00:06, 16.65it/s]"
     ]
    },
    {
     "name": "stdout",
     "output_type": "stream",
     "text": [
      "Epoch 180 of 301\n",
      "Generator loss: 1.35514033, Discriminator loss: 1.05526352\n"
     ]
    },
    {
     "name": "stderr",
     "output_type": "stream",
     "text": [
      "118it [00:06, 16.90it/s]                         \n",
      "  2%|▏         | 2/117 [00:00<00:07, 15.69it/s]"
     ]
    },
    {
     "name": "stdout",
     "output_type": "stream",
     "text": [
      "Epoch 181 of 301\n",
      "Generator loss: 1.33289874, Discriminator loss: 1.04977417\n"
     ]
    },
    {
     "name": "stderr",
     "output_type": "stream",
     "text": [
      "118it [00:06, 16.93it/s]                         \n",
      "  2%|▏         | 2/117 [00:00<00:06, 17.00it/s]"
     ]
    },
    {
     "name": "stdout",
     "output_type": "stream",
     "text": [
      "Epoch 182 of 301\n",
      "Generator loss: 1.36413789, Discriminator loss: 1.05046427\n"
     ]
    },
    {
     "name": "stderr",
     "output_type": "stream",
     "text": [
      "118it [00:06, 16.99it/s]                         \n",
      "  2%|▏         | 2/117 [00:00<00:07, 15.62it/s]"
     ]
    },
    {
     "name": "stdout",
     "output_type": "stream",
     "text": [
      "Epoch 183 of 301\n",
      "Generator loss: 1.30452597, Discriminator loss: 1.06236160\n"
     ]
    },
    {
     "name": "stderr",
     "output_type": "stream",
     "text": [
      "118it [00:06, 17.01it/s]                         \n",
      "  2%|▏         | 2/117 [00:00<00:06, 16.59it/s]"
     ]
    },
    {
     "name": "stdout",
     "output_type": "stream",
     "text": [
      "Epoch 184 of 301\n",
      "Generator loss: 1.28461623, Discriminator loss: 1.06991267\n"
     ]
    },
    {
     "name": "stderr",
     "output_type": "stream",
     "text": [
      "118it [00:06, 16.97it/s]                         \n",
      "  2%|▏         | 2/117 [00:00<00:06, 16.79it/s]"
     ]
    },
    {
     "name": "stdout",
     "output_type": "stream",
     "text": [
      "Epoch 185 of 301\n",
      "Generator loss: 1.31593442, Discriminator loss: 1.06113005\n"
     ]
    },
    {
     "name": "stderr",
     "output_type": "stream",
     "text": [
      "118it [00:06, 16.96it/s]                         \n",
      "  2%|▏         | 2/117 [00:00<00:06, 16.51it/s]"
     ]
    },
    {
     "name": "stdout",
     "output_type": "stream",
     "text": [
      "Epoch 186 of 301\n",
      "Generator loss: 1.32332206, Discriminator loss: 1.07780826\n"
     ]
    },
    {
     "name": "stderr",
     "output_type": "stream",
     "text": [
      "118it [00:06, 16.92it/s]                         \n",
      "  2%|▏         | 2/117 [00:00<00:06, 16.80it/s]"
     ]
    },
    {
     "name": "stdout",
     "output_type": "stream",
     "text": [
      "Epoch 187 of 301\n",
      "Generator loss: 1.29036033, Discriminator loss: 1.07873499\n"
     ]
    },
    {
     "name": "stderr",
     "output_type": "stream",
     "text": [
      "118it [00:06, 16.93it/s]                         \n",
      "  2%|▏         | 2/117 [00:00<00:06, 16.50it/s]"
     ]
    },
    {
     "name": "stdout",
     "output_type": "stream",
     "text": [
      "Epoch 188 of 301\n",
      "Generator loss: 1.29678738, Discriminator loss: 1.07273352\n"
     ]
    },
    {
     "name": "stderr",
     "output_type": "stream",
     "text": [
      "118it [00:07, 16.82it/s]                         \n",
      "  2%|▏         | 2/117 [00:00<00:07, 16.36it/s]"
     ]
    },
    {
     "name": "stdout",
     "output_type": "stream",
     "text": [
      "Epoch 189 of 301\n",
      "Generator loss: 1.30227983, Discriminator loss: 1.06936944\n"
     ]
    },
    {
     "name": "stderr",
     "output_type": "stream",
     "text": [
      "118it [00:06, 17.03it/s]                         \n",
      "  2%|▏         | 2/117 [00:00<00:07, 16.34it/s]"
     ]
    },
    {
     "name": "stdout",
     "output_type": "stream",
     "text": [
      "Epoch 190 of 301\n",
      "Generator loss: 1.27244759, Discriminator loss: 1.07708979\n"
     ]
    },
    {
     "name": "stderr",
     "output_type": "stream",
     "text": [
      "118it [00:06, 17.10it/s]                         \n",
      "  2%|▏         | 2/117 [00:00<00:06, 16.79it/s]"
     ]
    },
    {
     "name": "stdout",
     "output_type": "stream",
     "text": [
      "Epoch 191 of 301\n",
      "Generator loss: 1.25448883, Discriminator loss: 1.09013498\n"
     ]
    },
    {
     "name": "stderr",
     "output_type": "stream",
     "text": [
      "118it [00:07, 16.85it/s]                         \n",
      "  2%|▏         | 2/117 [00:00<00:06, 16.71it/s]"
     ]
    },
    {
     "name": "stdout",
     "output_type": "stream",
     "text": [
      "Epoch 192 of 301\n",
      "Generator loss: 1.27125502, Discriminator loss: 1.08712935\n"
     ]
    },
    {
     "name": "stderr",
     "output_type": "stream",
     "text": [
      "118it [00:06, 17.06it/s]                         \n",
      "  2%|▏         | 2/117 [00:00<00:06, 16.87it/s]"
     ]
    },
    {
     "name": "stdout",
     "output_type": "stream",
     "text": [
      "Epoch 193 of 301\n",
      "Generator loss: 1.25798213, Discriminator loss: 1.08134556\n"
     ]
    },
    {
     "name": "stderr",
     "output_type": "stream",
     "text": [
      "118it [00:07, 16.81it/s]                         \n",
      "  2%|▏         | 2/117 [00:00<00:06, 16.76it/s]"
     ]
    },
    {
     "name": "stdout",
     "output_type": "stream",
     "text": [
      "Epoch 194 of 301\n",
      "Generator loss: 1.31566167, Discriminator loss: 1.06812811\n"
     ]
    },
    {
     "name": "stderr",
     "output_type": "stream",
     "text": [
      "118it [00:07, 16.86it/s]                         \n",
      "  2%|▏         | 2/117 [00:00<00:07, 16.17it/s]"
     ]
    },
    {
     "name": "stdout",
     "output_type": "stream",
     "text": [
      "Epoch 195 of 301\n",
      "Generator loss: 1.26093984, Discriminator loss: 1.09401584\n"
     ]
    },
    {
     "name": "stderr",
     "output_type": "stream",
     "text": [
      "118it [00:07, 16.81it/s]                         \n",
      "  2%|▏         | 2/117 [00:00<00:07, 15.97it/s]"
     ]
    },
    {
     "name": "stdout",
     "output_type": "stream",
     "text": [
      "Epoch 196 of 301\n",
      "Generator loss: 1.30274117, Discriminator loss: 1.08703685\n"
     ]
    },
    {
     "name": "stderr",
     "output_type": "stream",
     "text": [
      "118it [00:06, 16.89it/s]                         \n",
      "  2%|▏         | 2/117 [00:00<00:06, 16.70it/s]"
     ]
    },
    {
     "name": "stdout",
     "output_type": "stream",
     "text": [
      "Epoch 197 of 301\n",
      "Generator loss: 1.25776565, Discriminator loss: 1.09647751\n"
     ]
    },
    {
     "name": "stderr",
     "output_type": "stream",
     "text": [
      "118it [00:06, 17.08it/s]                         \n",
      "  2%|▏         | 2/117 [00:00<00:06, 16.77it/s]"
     ]
    },
    {
     "name": "stdout",
     "output_type": "stream",
     "text": [
      "Epoch 198 of 301\n",
      "Generator loss: 1.29795444, Discriminator loss: 1.07094228\n"
     ]
    },
    {
     "name": "stderr",
     "output_type": "stream",
     "text": [
      "118it [00:07, 16.85it/s]                         \n",
      "  2%|▏         | 2/117 [00:00<00:06, 16.75it/s]"
     ]
    },
    {
     "name": "stdout",
     "output_type": "stream",
     "text": [
      "Epoch 199 of 301\n",
      "Generator loss: 1.29610145, Discriminator loss: 1.07625270\n"
     ]
    },
    {
     "name": "stderr",
     "output_type": "stream",
     "text": [
      "118it [00:06, 16.86it/s]                         \n",
      "  2%|▏         | 2/117 [00:00<00:06, 16.50it/s]"
     ]
    },
    {
     "name": "stdout",
     "output_type": "stream",
     "text": [
      "Epoch 200 of 301\n",
      "Generator loss: 1.26168466, Discriminator loss: 1.08530545\n"
     ]
    },
    {
     "name": "stderr",
     "output_type": "stream",
     "text": [
      "118it [00:06, 17.02it/s]                         \n",
      "  2%|▏         | 2/117 [00:00<00:06, 16.56it/s]"
     ]
    },
    {
     "name": "stdout",
     "output_type": "stream",
     "text": [
      "Epoch 201 of 301\n",
      "Generator loss: 1.25027215, Discriminator loss: 1.09207666\n"
     ]
    },
    {
     "name": "stderr",
     "output_type": "stream",
     "text": [
      "118it [00:06, 16.88it/s]                         \n",
      "  2%|▏         | 2/117 [00:00<00:06, 16.68it/s]"
     ]
    },
    {
     "name": "stdout",
     "output_type": "stream",
     "text": [
      "Epoch 202 of 301\n",
      "Generator loss: 1.26867843, Discriminator loss: 1.09088433\n"
     ]
    },
    {
     "name": "stderr",
     "output_type": "stream",
     "text": [
      "118it [00:06, 17.14it/s]                         \n",
      "  2%|▏         | 2/117 [00:00<00:07, 16.26it/s]"
     ]
    },
    {
     "name": "stdout",
     "output_type": "stream",
     "text": [
      "Epoch 203 of 301\n",
      "Generator loss: 1.26412868, Discriminator loss: 1.07911253\n"
     ]
    },
    {
     "name": "stderr",
     "output_type": "stream",
     "text": [
      "118it [00:06, 17.05it/s]                         \n",
      "  2%|▏         | 2/117 [00:00<00:06, 16.59it/s]"
     ]
    },
    {
     "name": "stdout",
     "output_type": "stream",
     "text": [
      "Epoch 204 of 301\n",
      "Generator loss: 1.21168554, Discriminator loss: 1.11390245\n"
     ]
    },
    {
     "name": "stderr",
     "output_type": "stream",
     "text": [
      "118it [00:06, 16.90it/s]                         \n",
      "  2%|▏         | 2/117 [00:00<00:06, 16.50it/s]"
     ]
    },
    {
     "name": "stdout",
     "output_type": "stream",
     "text": [
      "Epoch 205 of 301\n",
      "Generator loss: 1.23525095, Discriminator loss: 1.09801638\n"
     ]
    },
    {
     "name": "stderr",
     "output_type": "stream",
     "text": [
      "118it [00:07, 16.75it/s]                         \n",
      "  2%|▏         | 2/117 [00:00<00:06, 16.49it/s]"
     ]
    },
    {
     "name": "stdout",
     "output_type": "stream",
     "text": [
      "Epoch 206 of 301\n",
      "Generator loss: 1.23229742, Discriminator loss: 1.09958649\n"
     ]
    },
    {
     "name": "stderr",
     "output_type": "stream",
     "text": [
      "118it [00:06, 17.08it/s]                         \n",
      "  2%|▏         | 2/117 [00:00<00:06, 16.54it/s]"
     ]
    },
    {
     "name": "stdout",
     "output_type": "stream",
     "text": [
      "Epoch 207 of 301\n",
      "Generator loss: 1.23618186, Discriminator loss: 1.09969997\n"
     ]
    },
    {
     "name": "stderr",
     "output_type": "stream",
     "text": [
      "118it [00:06, 16.90it/s]                         \n",
      "  2%|▏         | 2/117 [00:00<00:06, 16.58it/s]"
     ]
    },
    {
     "name": "stdout",
     "output_type": "stream",
     "text": [
      "Epoch 208 of 301\n",
      "Generator loss: 1.23242807, Discriminator loss: 1.09451222\n"
     ]
    },
    {
     "name": "stderr",
     "output_type": "stream",
     "text": [
      "118it [00:06, 16.96it/s]                         \n",
      "  2%|▏         | 2/117 [00:00<00:07, 16.27it/s]"
     ]
    },
    {
     "name": "stdout",
     "output_type": "stream",
     "text": [
      "Epoch 209 of 301\n",
      "Generator loss: 1.24665368, Discriminator loss: 1.10536814\n"
     ]
    },
    {
     "name": "stderr",
     "output_type": "stream",
     "text": [
      "118it [00:06, 17.14it/s]                         \n",
      "  2%|▏         | 2/117 [00:00<00:07, 16.34it/s]"
     ]
    },
    {
     "name": "stdout",
     "output_type": "stream",
     "text": [
      "Epoch 210 of 301\n",
      "Generator loss: 1.27845681, Discriminator loss: 1.08921921\n"
     ]
    },
    {
     "name": "stderr",
     "output_type": "stream",
     "text": [
      "118it [00:07, 16.85it/s]                         \n",
      "  2%|▏         | 2/117 [00:00<00:07, 15.81it/s]"
     ]
    },
    {
     "name": "stdout",
     "output_type": "stream",
     "text": [
      "Epoch 211 of 301\n",
      "Generator loss: 1.24259305, Discriminator loss: 1.09416223\n"
     ]
    },
    {
     "name": "stderr",
     "output_type": "stream",
     "text": [
      "118it [00:06, 16.98it/s]                         \n",
      "  2%|▏         | 2/117 [00:00<00:06, 16.81it/s]"
     ]
    },
    {
     "name": "stdout",
     "output_type": "stream",
     "text": [
      "Epoch 212 of 301\n",
      "Generator loss: 1.22336352, Discriminator loss: 1.11226618\n"
     ]
    },
    {
     "name": "stderr",
     "output_type": "stream",
     "text": [
      "118it [00:06, 17.16it/s]                         \n",
      "  2%|▏         | 2/117 [00:00<00:06, 17.03it/s]"
     ]
    },
    {
     "name": "stdout",
     "output_type": "stream",
     "text": [
      "Epoch 213 of 301\n",
      "Generator loss: 1.25567269, Discriminator loss: 1.10264266\n"
     ]
    },
    {
     "name": "stderr",
     "output_type": "stream",
     "text": [
      "118it [00:06, 16.94it/s]                         \n",
      "  2%|▏         | 2/117 [00:00<00:07, 15.92it/s]"
     ]
    },
    {
     "name": "stdout",
     "output_type": "stream",
     "text": [
      "Epoch 214 of 301\n",
      "Generator loss: 1.22988832, Discriminator loss: 1.11014450\n"
     ]
    },
    {
     "name": "stderr",
     "output_type": "stream",
     "text": [
      "118it [00:07, 16.81it/s]                         \n",
      "  2%|▏         | 2/117 [00:00<00:06, 16.84it/s]"
     ]
    },
    {
     "name": "stdout",
     "output_type": "stream",
     "text": [
      "Epoch 215 of 301\n",
      "Generator loss: 1.23777843, Discriminator loss: 1.11117244\n"
     ]
    },
    {
     "name": "stderr",
     "output_type": "stream",
     "text": [
      "118it [00:06, 17.04it/s]                         \n",
      "  2%|▏         | 2/117 [00:00<00:06, 17.02it/s]"
     ]
    },
    {
     "name": "stdout",
     "output_type": "stream",
     "text": [
      "Epoch 216 of 301\n",
      "Generator loss: 1.23111141, Discriminator loss: 1.09925759\n"
     ]
    },
    {
     "name": "stderr",
     "output_type": "stream",
     "text": [
      "118it [00:06, 17.07it/s]                         \n",
      "  2%|▏         | 2/117 [00:00<00:06, 16.85it/s]"
     ]
    },
    {
     "name": "stdout",
     "output_type": "stream",
     "text": [
      "Epoch 217 of 301\n",
      "Generator loss: 1.22264111, Discriminator loss: 1.11141038\n"
     ]
    },
    {
     "name": "stderr",
     "output_type": "stream",
     "text": [
      "118it [00:06, 17.04it/s]                         \n",
      "  2%|▏         | 2/117 [00:00<00:06, 16.55it/s]"
     ]
    },
    {
     "name": "stdout",
     "output_type": "stream",
     "text": [
      "Epoch 218 of 301\n",
      "Generator loss: 1.23091447, Discriminator loss: 1.10639203\n"
     ]
    },
    {
     "name": "stderr",
     "output_type": "stream",
     "text": [
      "118it [00:06, 17.00it/s]                         \n",
      "  2%|▏         | 2/117 [00:00<00:06, 16.56it/s]"
     ]
    },
    {
     "name": "stdout",
     "output_type": "stream",
     "text": [
      "Epoch 219 of 301\n",
      "Generator loss: 1.20879400, Discriminator loss: 1.11195290\n"
     ]
    },
    {
     "name": "stderr",
     "output_type": "stream",
     "text": [
      "118it [00:07, 16.81it/s]                         \n",
      "  2%|▏         | 2/117 [00:00<00:07, 15.93it/s]"
     ]
    },
    {
     "name": "stdout",
     "output_type": "stream",
     "text": [
      "Epoch 220 of 301\n",
      "Generator loss: 1.23885667, Discriminator loss: 1.09432065\n"
     ]
    },
    {
     "name": "stderr",
     "output_type": "stream",
     "text": [
      "118it [00:06, 17.05it/s]                         \n",
      "  2%|▏         | 2/117 [00:00<00:06, 16.91it/s]"
     ]
    },
    {
     "name": "stdout",
     "output_type": "stream",
     "text": [
      "Epoch 221 of 301\n",
      "Generator loss: 1.24433756, Discriminator loss: 1.09760880\n"
     ]
    },
    {
     "name": "stderr",
     "output_type": "stream",
     "text": [
      "118it [00:06, 17.07it/s]                         \n",
      "  2%|▏         | 2/117 [00:00<00:06, 16.81it/s]"
     ]
    },
    {
     "name": "stdout",
     "output_type": "stream",
     "text": [
      "Epoch 222 of 301\n",
      "Generator loss: 1.25447416, Discriminator loss: 1.11613727\n"
     ]
    },
    {
     "name": "stderr",
     "output_type": "stream",
     "text": [
      "118it [00:06, 17.15it/s]                         \n",
      "  2%|▏         | 2/117 [00:00<00:06, 16.86it/s]"
     ]
    },
    {
     "name": "stdout",
     "output_type": "stream",
     "text": [
      "Epoch 223 of 301\n",
      "Generator loss: 1.26093030, Discriminator loss: 1.09163427\n"
     ]
    },
    {
     "name": "stderr",
     "output_type": "stream",
     "text": [
      "118it [00:06, 17.00it/s]                         \n",
      "  2%|▏         | 2/117 [00:00<00:06, 16.82it/s]"
     ]
    },
    {
     "name": "stdout",
     "output_type": "stream",
     "text": [
      "Epoch 224 of 301\n",
      "Generator loss: 1.21314418, Discriminator loss: 1.11664951\n"
     ]
    },
    {
     "name": "stderr",
     "output_type": "stream",
     "text": [
      "118it [00:06, 17.08it/s]                         \n",
      "  2%|▏         | 2/117 [00:00<00:07, 16.04it/s]"
     ]
    },
    {
     "name": "stdout",
     "output_type": "stream",
     "text": [
      "Epoch 225 of 301\n",
      "Generator loss: 1.25512862, Discriminator loss: 1.10026658\n"
     ]
    },
    {
     "name": "stderr",
     "output_type": "stream",
     "text": [
      "118it [00:06, 17.08it/s]                         \n",
      "  2%|▏         | 2/117 [00:00<00:07, 15.92it/s]"
     ]
    },
    {
     "name": "stdout",
     "output_type": "stream",
     "text": [
      "Epoch 226 of 301\n",
      "Generator loss: 1.19499719, Discriminator loss: 1.11431313\n"
     ]
    },
    {
     "name": "stderr",
     "output_type": "stream",
     "text": [
      "118it [00:07, 16.69it/s]                         \n",
      "  2%|▏         | 2/117 [00:00<00:07, 16.20it/s]"
     ]
    },
    {
     "name": "stdout",
     "output_type": "stream",
     "text": [
      "Epoch 227 of 301\n",
      "Generator loss: 1.22622895, Discriminator loss: 1.11089075\n"
     ]
    },
    {
     "name": "stderr",
     "output_type": "stream",
     "text": [
      "118it [00:06, 16.98it/s]                         \n",
      "  2%|▏         | 2/117 [00:00<00:06, 16.71it/s]"
     ]
    },
    {
     "name": "stdout",
     "output_type": "stream",
     "text": [
      "Epoch 228 of 301\n",
      "Generator loss: 1.19449234, Discriminator loss: 1.12241876\n"
     ]
    },
    {
     "name": "stderr",
     "output_type": "stream",
     "text": [
      "118it [00:06, 16.99it/s]                         \n",
      "  2%|▏         | 2/117 [00:00<00:06, 16.54it/s]"
     ]
    },
    {
     "name": "stdout",
     "output_type": "stream",
     "text": [
      "Epoch 229 of 301\n",
      "Generator loss: 1.21362340, Discriminator loss: 1.10778439\n"
     ]
    },
    {
     "name": "stderr",
     "output_type": "stream",
     "text": [
      "118it [00:07, 16.77it/s]                         \n",
      "  2%|▏         | 2/117 [00:00<00:07, 16.29it/s]"
     ]
    },
    {
     "name": "stdout",
     "output_type": "stream",
     "text": [
      "Epoch 230 of 301\n",
      "Generator loss: 1.20116711, Discriminator loss: 1.11699450\n"
     ]
    },
    {
     "name": "stderr",
     "output_type": "stream",
     "text": [
      "118it [00:07, 16.74it/s]                         \n",
      "  2%|▏         | 2/117 [00:00<00:07, 15.95it/s]"
     ]
    },
    {
     "name": "stdout",
     "output_type": "stream",
     "text": [
      "Epoch 231 of 301\n",
      "Generator loss: 1.21150434, Discriminator loss: 1.11162865\n"
     ]
    },
    {
     "name": "stderr",
     "output_type": "stream",
     "text": [
      "118it [00:07, 16.82it/s]                         \n",
      "  2%|▏         | 2/117 [00:00<00:06, 16.57it/s]"
     ]
    },
    {
     "name": "stdout",
     "output_type": "stream",
     "text": [
      "Epoch 232 of 301\n",
      "Generator loss: 1.23851669, Discriminator loss: 1.10918975\n"
     ]
    },
    {
     "name": "stderr",
     "output_type": "stream",
     "text": [
      "118it [00:06, 17.04it/s]                         \n",
      "  2%|▏         | 2/117 [00:00<00:06, 16.53it/s]"
     ]
    },
    {
     "name": "stdout",
     "output_type": "stream",
     "text": [
      "Epoch 233 of 301\n",
      "Generator loss: 1.18107927, Discriminator loss: 1.13087928\n"
     ]
    },
    {
     "name": "stderr",
     "output_type": "stream",
     "text": [
      "118it [00:06, 16.99it/s]                         \n",
      "  2%|▏         | 2/117 [00:00<00:07, 16.18it/s]"
     ]
    },
    {
     "name": "stdout",
     "output_type": "stream",
     "text": [
      "Epoch 234 of 301\n",
      "Generator loss: 1.15442920, Discriminator loss: 1.13775897\n"
     ]
    },
    {
     "name": "stderr",
     "output_type": "stream",
     "text": [
      "118it [00:06, 16.96it/s]                         \n",
      "  2%|▏         | 2/117 [00:00<00:06, 16.51it/s]"
     ]
    },
    {
     "name": "stdout",
     "output_type": "stream",
     "text": [
      "Epoch 235 of 301\n",
      "Generator loss: 1.17919493, Discriminator loss: 1.12744391\n"
     ]
    },
    {
     "name": "stderr",
     "output_type": "stream",
     "text": [
      "118it [00:07, 16.85it/s]                         \n",
      "  2%|▏         | 2/117 [00:00<00:06, 16.56it/s]"
     ]
    },
    {
     "name": "stdout",
     "output_type": "stream",
     "text": [
      "Epoch 236 of 301\n",
      "Generator loss: 1.15972745, Discriminator loss: 1.14580572\n"
     ]
    },
    {
     "name": "stderr",
     "output_type": "stream",
     "text": [
      "118it [00:06, 16.95it/s]                         \n",
      "  2%|▏         | 2/117 [00:00<00:07, 16.38it/s]"
     ]
    },
    {
     "name": "stdout",
     "output_type": "stream",
     "text": [
      "Epoch 237 of 301\n",
      "Generator loss: 1.20897698, Discriminator loss: 1.11724067\n"
     ]
    },
    {
     "name": "stderr",
     "output_type": "stream",
     "text": [
      "118it [00:06, 17.04it/s]                         \n",
      "  2%|▏         | 2/117 [00:00<00:06, 16.69it/s]"
     ]
    },
    {
     "name": "stdout",
     "output_type": "stream",
     "text": [
      "Epoch 238 of 301\n",
      "Generator loss: 1.19193530, Discriminator loss: 1.13469279\n"
     ]
    },
    {
     "name": "stderr",
     "output_type": "stream",
     "text": [
      "118it [00:06, 17.05it/s]                         \n",
      "  2%|▏         | 2/117 [00:00<00:06, 16.61it/s]"
     ]
    },
    {
     "name": "stdout",
     "output_type": "stream",
     "text": [
      "Epoch 239 of 301\n",
      "Generator loss: 1.18240607, Discriminator loss: 1.13502777\n"
     ]
    },
    {
     "name": "stderr",
     "output_type": "stream",
     "text": [
      "118it [00:07, 16.76it/s]                         \n",
      "  2%|▏         | 2/117 [00:00<00:06, 16.71it/s]"
     ]
    },
    {
     "name": "stdout",
     "output_type": "stream",
     "text": [
      "Epoch 240 of 301\n",
      "Generator loss: 1.17720103, Discriminator loss: 1.13408077\n"
     ]
    },
    {
     "name": "stderr",
     "output_type": "stream",
     "text": [
      "118it [00:06, 17.27it/s]                         \n",
      "  2%|▏         | 2/117 [00:00<00:06, 16.95it/s]"
     ]
    },
    {
     "name": "stdout",
     "output_type": "stream",
     "text": [
      "Epoch 241 of 301\n",
      "Generator loss: 1.19030297, Discriminator loss: 1.12629759\n"
     ]
    },
    {
     "name": "stderr",
     "output_type": "stream",
     "text": [
      "118it [00:06, 17.19it/s]                         \n",
      "  2%|▏         | 2/117 [00:00<00:06, 16.69it/s]"
     ]
    },
    {
     "name": "stdout",
     "output_type": "stream",
     "text": [
      "Epoch 242 of 301\n",
      "Generator loss: 1.22018456, Discriminator loss: 1.11342573\n"
     ]
    },
    {
     "name": "stderr",
     "output_type": "stream",
     "text": [
      "118it [00:06, 17.49it/s]                         \n",
      "  2%|▏         | 2/117 [00:00<00:06, 16.71it/s]"
     ]
    },
    {
     "name": "stdout",
     "output_type": "stream",
     "text": [
      "Epoch 243 of 301\n",
      "Generator loss: 1.16505277, Discriminator loss: 1.13444710\n"
     ]
    },
    {
     "name": "stderr",
     "output_type": "stream",
     "text": [
      "118it [00:06, 17.26it/s]                         \n",
      "  2%|▏         | 2/117 [00:00<00:06, 17.12it/s]"
     ]
    },
    {
     "name": "stdout",
     "output_type": "stream",
     "text": [
      "Epoch 244 of 301\n",
      "Generator loss: 1.14922881, Discriminator loss: 1.14992118\n"
     ]
    },
    {
     "name": "stderr",
     "output_type": "stream",
     "text": [
      "118it [00:06, 17.50it/s]                         \n",
      "  2%|▏         | 2/117 [00:00<00:06, 17.13it/s]"
     ]
    },
    {
     "name": "stdout",
     "output_type": "stream",
     "text": [
      "Epoch 245 of 301\n",
      "Generator loss: 1.15296221, Discriminator loss: 1.14656639\n"
     ]
    },
    {
     "name": "stderr",
     "output_type": "stream",
     "text": [
      "118it [00:06, 17.17it/s]                         \n",
      "  2%|▏         | 2/117 [00:00<00:07, 16.11it/s]"
     ]
    },
    {
     "name": "stdout",
     "output_type": "stream",
     "text": [
      "Epoch 246 of 301\n",
      "Generator loss: 1.15446687, Discriminator loss: 1.14580417\n"
     ]
    },
    {
     "name": "stderr",
     "output_type": "stream",
     "text": [
      "118it [00:06, 17.41it/s]                         \n",
      "  2%|▏         | 2/117 [00:00<00:06, 16.79it/s]"
     ]
    },
    {
     "name": "stdout",
     "output_type": "stream",
     "text": [
      "Epoch 247 of 301\n",
      "Generator loss: 1.15139842, Discriminator loss: 1.13651705\n"
     ]
    },
    {
     "name": "stderr",
     "output_type": "stream",
     "text": [
      "118it [00:06, 17.47it/s]                         \n",
      "  2%|▏         | 2/117 [00:00<00:06, 17.08it/s]"
     ]
    },
    {
     "name": "stdout",
     "output_type": "stream",
     "text": [
      "Epoch 248 of 301\n",
      "Generator loss: 1.20628285, Discriminator loss: 1.12594211\n"
     ]
    },
    {
     "name": "stderr",
     "output_type": "stream",
     "text": [
      "118it [00:06, 17.31it/s]                         \n",
      "  2%|▏         | 2/117 [00:00<00:06, 16.54it/s]"
     ]
    },
    {
     "name": "stdout",
     "output_type": "stream",
     "text": [
      "Epoch 249 of 301\n",
      "Generator loss: 1.18920779, Discriminator loss: 1.13345313\n"
     ]
    },
    {
     "name": "stderr",
     "output_type": "stream",
     "text": [
      "118it [00:07, 16.49it/s]                         \n",
      "  2%|▏         | 2/117 [00:00<00:06, 16.79it/s]"
     ]
    },
    {
     "name": "stdout",
     "output_type": "stream",
     "text": [
      "Epoch 250 of 301\n",
      "Generator loss: 1.14726377, Discriminator loss: 1.14388418\n"
     ]
    },
    {
     "name": "stderr",
     "output_type": "stream",
     "text": [
      "118it [00:07, 16.21it/s]                         \n",
      "  2%|▏         | 2/117 [00:00<00:06, 16.51it/s]"
     ]
    },
    {
     "name": "stdout",
     "output_type": "stream",
     "text": [
      "Epoch 251 of 301\n",
      "Generator loss: 1.19416022, Discriminator loss: 1.12517667\n"
     ]
    },
    {
     "name": "stderr",
     "output_type": "stream",
     "text": [
      "118it [00:07, 16.56it/s]                         \n",
      "  2%|▏         | 2/117 [00:00<00:06, 16.70it/s]"
     ]
    },
    {
     "name": "stdout",
     "output_type": "stream",
     "text": [
      "Epoch 252 of 301\n",
      "Generator loss: 1.17470133, Discriminator loss: 1.13752222\n"
     ]
    },
    {
     "name": "stderr",
     "output_type": "stream",
     "text": [
      "118it [00:06, 16.90it/s]                         \n",
      "  2%|▏         | 2/117 [00:00<00:06, 16.63it/s]"
     ]
    },
    {
     "name": "stdout",
     "output_type": "stream",
     "text": [
      "Epoch 253 of 301\n",
      "Generator loss: 1.13806081, Discriminator loss: 1.15624785\n"
     ]
    },
    {
     "name": "stderr",
     "output_type": "stream",
     "text": [
      "118it [00:06, 17.16it/s]                         \n",
      "  2%|▏         | 2/117 [00:00<00:07, 16.37it/s]"
     ]
    },
    {
     "name": "stdout",
     "output_type": "stream",
     "text": [
      "Epoch 254 of 301\n",
      "Generator loss: 1.14375138, Discriminator loss: 1.15028799\n"
     ]
    },
    {
     "name": "stderr",
     "output_type": "stream",
     "text": [
      "118it [00:06, 16.95it/s]                         \n",
      "  2%|▏         | 2/117 [00:00<00:07, 16.12it/s]"
     ]
    },
    {
     "name": "stdout",
     "output_type": "stream",
     "text": [
      "Epoch 255 of 301\n",
      "Generator loss: 1.13952494, Discriminator loss: 1.14356530\n"
     ]
    },
    {
     "name": "stderr",
     "output_type": "stream",
     "text": [
      "118it [00:06, 16.96it/s]                         \n",
      "  2%|▏         | 2/117 [00:00<00:06, 16.82it/s]"
     ]
    },
    {
     "name": "stdout",
     "output_type": "stream",
     "text": [
      "Epoch 256 of 301\n",
      "Generator loss: 1.21017540, Discriminator loss: 1.12249529\n"
     ]
    },
    {
     "name": "stderr",
     "output_type": "stream",
     "text": [
      "118it [00:06, 17.00it/s]                         \n",
      "  2%|▏         | 2/117 [00:00<00:07, 15.35it/s]"
     ]
    },
    {
     "name": "stdout",
     "output_type": "stream",
     "text": [
      "Epoch 257 of 301\n",
      "Generator loss: 1.19276547, Discriminator loss: 1.13713837\n"
     ]
    },
    {
     "name": "stderr",
     "output_type": "stream",
     "text": [
      "118it [00:07, 16.85it/s]                         \n",
      "  2%|▏         | 2/117 [00:00<00:06, 16.72it/s]"
     ]
    },
    {
     "name": "stdout",
     "output_type": "stream",
     "text": [
      "Epoch 258 of 301\n",
      "Generator loss: 1.14103913, Discriminator loss: 1.14522803\n"
     ]
    },
    {
     "name": "stderr",
     "output_type": "stream",
     "text": [
      "118it [00:06, 16.99it/s]                         \n",
      "  2%|▏         | 2/117 [00:00<00:06, 16.74it/s]"
     ]
    },
    {
     "name": "stdout",
     "output_type": "stream",
     "text": [
      "Epoch 259 of 301\n",
      "Generator loss: 1.16667581, Discriminator loss: 1.13864994\n"
     ]
    },
    {
     "name": "stderr",
     "output_type": "stream",
     "text": [
      "118it [00:06, 16.98it/s]                         \n",
      "  2%|▏         | 2/117 [00:00<00:06, 16.60it/s]"
     ]
    },
    {
     "name": "stdout",
     "output_type": "stream",
     "text": [
      "Epoch 260 of 301\n",
      "Generator loss: 1.17463982, Discriminator loss: 1.12749553\n"
     ]
    },
    {
     "name": "stderr",
     "output_type": "stream",
     "text": [
      "118it [00:06, 17.02it/s]                         \n",
      "  2%|▏         | 2/117 [00:00<00:07, 16.17it/s]"
     ]
    },
    {
     "name": "stdout",
     "output_type": "stream",
     "text": [
      "Epoch 261 of 301\n",
      "Generator loss: 1.14967752, Discriminator loss: 1.15312982\n"
     ]
    },
    {
     "name": "stderr",
     "output_type": "stream",
     "text": [
      "118it [00:06, 17.01it/s]                         \n",
      "  2%|▏         | 2/117 [00:00<00:07, 16.07it/s]"
     ]
    },
    {
     "name": "stdout",
     "output_type": "stream",
     "text": [
      "Epoch 262 of 301\n",
      "Generator loss: 1.14090240, Discriminator loss: 1.14960480\n"
     ]
    },
    {
     "name": "stderr",
     "output_type": "stream",
     "text": [
      "118it [00:06, 17.12it/s]                         \n",
      "  2%|▏         | 2/117 [00:00<00:06, 16.72it/s]"
     ]
    },
    {
     "name": "stdout",
     "output_type": "stream",
     "text": [
      "Epoch 263 of 301\n",
      "Generator loss: 1.17197669, Discriminator loss: 1.14674795\n"
     ]
    },
    {
     "name": "stderr",
     "output_type": "stream",
     "text": [
      "118it [00:06, 16.98it/s]                         \n",
      "  2%|▏         | 2/117 [00:00<00:07, 16.12it/s]"
     ]
    },
    {
     "name": "stdout",
     "output_type": "stream",
     "text": [
      "Epoch 264 of 301\n",
      "Generator loss: 1.12961304, Discriminator loss: 1.16118443\n"
     ]
    },
    {
     "name": "stderr",
     "output_type": "stream",
     "text": [
      "118it [00:06, 17.05it/s]                         \n",
      "  2%|▏         | 2/117 [00:00<00:06, 16.70it/s]"
     ]
    },
    {
     "name": "stdout",
     "output_type": "stream",
     "text": [
      "Epoch 265 of 301\n",
      "Generator loss: 1.15603101, Discriminator loss: 1.14085007\n"
     ]
    },
    {
     "name": "stderr",
     "output_type": "stream",
     "text": [
      "118it [00:06, 16.95it/s]                         \n",
      "  2%|▏         | 2/117 [00:00<00:06, 16.70it/s]"
     ]
    },
    {
     "name": "stdout",
     "output_type": "stream",
     "text": [
      "Epoch 266 of 301\n",
      "Generator loss: 1.09777021, Discriminator loss: 1.17293942\n"
     ]
    },
    {
     "name": "stderr",
     "output_type": "stream",
     "text": [
      "118it [00:06, 17.06it/s]                         \n",
      "  2%|▏         | 2/117 [00:00<00:06, 16.87it/s]"
     ]
    },
    {
     "name": "stdout",
     "output_type": "stream",
     "text": [
      "Epoch 267 of 301\n",
      "Generator loss: 1.20907652, Discriminator loss: 1.13939273\n"
     ]
    },
    {
     "name": "stderr",
     "output_type": "stream",
     "text": [
      "118it [00:07, 16.69it/s]                         \n",
      "  2%|▏         | 2/117 [00:00<00:07, 16.30it/s]"
     ]
    },
    {
     "name": "stdout",
     "output_type": "stream",
     "text": [
      "Epoch 268 of 301\n",
      "Generator loss: 1.16447604, Discriminator loss: 1.14310074\n"
     ]
    },
    {
     "name": "stderr",
     "output_type": "stream",
     "text": [
      "118it [00:06, 17.00it/s]                         \n",
      "  2%|▏         | 2/117 [00:00<00:07, 16.40it/s]"
     ]
    },
    {
     "name": "stdout",
     "output_type": "stream",
     "text": [
      "Epoch 269 of 301\n",
      "Generator loss: 1.13680398, Discriminator loss: 1.16502929\n"
     ]
    },
    {
     "name": "stderr",
     "output_type": "stream",
     "text": [
      "118it [00:06, 17.08it/s]                         \n",
      "  2%|▏         | 2/117 [00:00<00:07, 15.16it/s]"
     ]
    },
    {
     "name": "stdout",
     "output_type": "stream",
     "text": [
      "Epoch 270 of 301\n",
      "Generator loss: 1.19873810, Discriminator loss: 1.12140560\n"
     ]
    },
    {
     "name": "stderr",
     "output_type": "stream",
     "text": [
      "118it [00:07, 16.76it/s]                         \n",
      "  2%|▏         | 2/117 [00:00<00:07, 14.73it/s]"
     ]
    },
    {
     "name": "stdout",
     "output_type": "stream",
     "text": [
      "Epoch 271 of 301\n",
      "Generator loss: 1.14070022, Discriminator loss: 1.15300035\n"
     ]
    },
    {
     "name": "stderr",
     "output_type": "stream",
     "text": [
      "118it [00:06, 16.86it/s]                         \n",
      "  2%|▏         | 2/117 [00:00<00:07, 16.29it/s]"
     ]
    },
    {
     "name": "stdout",
     "output_type": "stream",
     "text": [
      "Epoch 272 of 301\n",
      "Generator loss: 1.17679751, Discriminator loss: 1.14876425\n"
     ]
    },
    {
     "name": "stderr",
     "output_type": "stream",
     "text": [
      "118it [00:06, 17.05it/s]                         \n",
      "  2%|▏         | 2/117 [00:00<00:06, 16.58it/s]"
     ]
    },
    {
     "name": "stdout",
     "output_type": "stream",
     "text": [
      "Epoch 273 of 301\n",
      "Generator loss: 1.16581547, Discriminator loss: 1.15098822\n"
     ]
    },
    {
     "name": "stderr",
     "output_type": "stream",
     "text": [
      "118it [00:06, 16.97it/s]                         \n",
      "  2%|▏         | 2/117 [00:00<00:06, 16.62it/s]"
     ]
    },
    {
     "name": "stdout",
     "output_type": "stream",
     "text": [
      "Epoch 274 of 301\n",
      "Generator loss: 1.10323501, Discriminator loss: 1.16144335\n"
     ]
    },
    {
     "name": "stderr",
     "output_type": "stream",
     "text": [
      "118it [00:06, 17.03it/s]                         \n",
      "  2%|▏         | 2/117 [00:00<00:06, 16.61it/s]"
     ]
    },
    {
     "name": "stdout",
     "output_type": "stream",
     "text": [
      "Epoch 275 of 301\n",
      "Generator loss: 1.10424078, Discriminator loss: 1.16987789\n"
     ]
    },
    {
     "name": "stderr",
     "output_type": "stream",
     "text": [
      "118it [00:06, 16.99it/s]                         \n",
      "  2%|▏         | 2/117 [00:00<00:06, 16.94it/s]"
     ]
    },
    {
     "name": "stdout",
     "output_type": "stream",
     "text": [
      "Epoch 276 of 301\n",
      "Generator loss: 1.10729933, Discriminator loss: 1.16629899\n"
     ]
    },
    {
     "name": "stderr",
     "output_type": "stream",
     "text": [
      "118it [00:06, 17.22it/s]                         \n",
      "  2%|▏         | 2/117 [00:00<00:07, 16.36it/s]"
     ]
    },
    {
     "name": "stdout",
     "output_type": "stream",
     "text": [
      "Epoch 277 of 301\n",
      "Generator loss: 1.10125768, Discriminator loss: 1.16813326\n"
     ]
    },
    {
     "name": "stderr",
     "output_type": "stream",
     "text": [
      "118it [00:06, 16.89it/s]                         \n",
      "  2%|▏         | 2/117 [00:00<00:06, 16.60it/s]"
     ]
    },
    {
     "name": "stdout",
     "output_type": "stream",
     "text": [
      "Epoch 278 of 301\n",
      "Generator loss: 1.10699952, Discriminator loss: 1.17993879\n"
     ]
    },
    {
     "name": "stderr",
     "output_type": "stream",
     "text": [
      "118it [00:06, 17.02it/s]                         \n",
      "  2%|▏         | 2/117 [00:00<00:06, 16.66it/s]"
     ]
    },
    {
     "name": "stdout",
     "output_type": "stream",
     "text": [
      "Epoch 279 of 301\n",
      "Generator loss: 1.14073706, Discriminator loss: 1.15606058\n"
     ]
    },
    {
     "name": "stderr",
     "output_type": "stream",
     "text": [
      "118it [00:07, 16.83it/s]                         \n",
      "  2%|▏         | 2/117 [00:00<00:06, 16.70it/s]"
     ]
    },
    {
     "name": "stdout",
     "output_type": "stream",
     "text": [
      "Epoch 280 of 301\n",
      "Generator loss: 1.13786077, Discriminator loss: 1.14234567\n"
     ]
    },
    {
     "name": "stderr",
     "output_type": "stream",
     "text": [
      "118it [00:06, 16.98it/s]                         \n",
      "  2%|▏         | 2/117 [00:00<00:06, 16.76it/s]"
     ]
    },
    {
     "name": "stdout",
     "output_type": "stream",
     "text": [
      "Epoch 281 of 301\n",
      "Generator loss: 1.14489782, Discriminator loss: 1.15233266\n"
     ]
    },
    {
     "name": "stderr",
     "output_type": "stream",
     "text": [
      "118it [00:06, 17.11it/s]                         \n",
      "  2%|▏         | 2/117 [00:00<00:07, 16.38it/s]"
     ]
    },
    {
     "name": "stdout",
     "output_type": "stream",
     "text": [
      "Epoch 282 of 301\n",
      "Generator loss: 1.11841178, Discriminator loss: 1.16547441\n"
     ]
    },
    {
     "name": "stderr",
     "output_type": "stream",
     "text": [
      "118it [00:06, 17.02it/s]                         \n",
      "  2%|▏         | 2/117 [00:00<00:06, 16.51it/s]"
     ]
    },
    {
     "name": "stdout",
     "output_type": "stream",
     "text": [
      "Epoch 283 of 301\n",
      "Generator loss: 1.15945292, Discriminator loss: 1.14153075\n"
     ]
    },
    {
     "name": "stderr",
     "output_type": "stream",
     "text": [
      "118it [00:06, 17.19it/s]                         \n",
      "  2%|▏         | 2/117 [00:00<00:06, 16.73it/s]"
     ]
    },
    {
     "name": "stdout",
     "output_type": "stream",
     "text": [
      "Epoch 284 of 301\n",
      "Generator loss: 1.11673522, Discriminator loss: 1.16429687\n"
     ]
    },
    {
     "name": "stderr",
     "output_type": "stream",
     "text": [
      "118it [00:06, 17.10it/s]                         \n",
      "  2%|▏         | 2/117 [00:00<00:06, 16.52it/s]"
     ]
    },
    {
     "name": "stdout",
     "output_type": "stream",
     "text": [
      "Epoch 285 of 301\n",
      "Generator loss: 1.11185241, Discriminator loss: 1.16135514\n"
     ]
    },
    {
     "name": "stderr",
     "output_type": "stream",
     "text": [
      "118it [00:06, 16.90it/s]                         \n",
      "  2%|▏         | 2/117 [00:00<00:07, 16.02it/s]"
     ]
    },
    {
     "name": "stdout",
     "output_type": "stream",
     "text": [
      "Epoch 286 of 301\n",
      "Generator loss: 1.12415862, Discriminator loss: 1.15633738\n"
     ]
    },
    {
     "name": "stderr",
     "output_type": "stream",
     "text": [
      "118it [00:07, 16.76it/s]                         \n",
      "  2%|▏         | 2/117 [00:00<00:06, 16.83it/s]"
     ]
    },
    {
     "name": "stdout",
     "output_type": "stream",
     "text": [
      "Epoch 287 of 301\n",
      "Generator loss: 1.10459173, Discriminator loss: 1.17487884\n"
     ]
    },
    {
     "name": "stderr",
     "output_type": "stream",
     "text": [
      "118it [00:07, 16.76it/s]                         \n",
      "  2%|▏         | 2/117 [00:00<00:06, 16.57it/s]"
     ]
    },
    {
     "name": "stdout",
     "output_type": "stream",
     "text": [
      "Epoch 288 of 301\n",
      "Generator loss: 1.14778435, Discriminator loss: 1.15958476\n"
     ]
    },
    {
     "name": "stderr",
     "output_type": "stream",
     "text": [
      "118it [00:06, 17.03it/s]                         \n",
      "  2%|▏         | 2/117 [00:00<00:07, 16.36it/s]"
     ]
    },
    {
     "name": "stdout",
     "output_type": "stream",
     "text": [
      "Epoch 289 of 301\n",
      "Generator loss: 1.09054244, Discriminator loss: 1.18628418\n"
     ]
    },
    {
     "name": "stderr",
     "output_type": "stream",
     "text": [
      "118it [00:06, 16.87it/s]                         \n",
      "  2%|▏         | 2/117 [00:00<00:07, 16.25it/s]"
     ]
    },
    {
     "name": "stdout",
     "output_type": "stream",
     "text": [
      "Epoch 290 of 301\n",
      "Generator loss: 1.14286101, Discriminator loss: 1.15327573\n"
     ]
    },
    {
     "name": "stderr",
     "output_type": "stream",
     "text": [
      "118it [00:06, 17.00it/s]                         \n",
      "  2%|▏         | 2/117 [00:00<00:06, 17.12it/s]"
     ]
    },
    {
     "name": "stdout",
     "output_type": "stream",
     "text": [
      "Epoch 291 of 301\n",
      "Generator loss: 1.08764362, Discriminator loss: 1.18630636\n"
     ]
    },
    {
     "name": "stderr",
     "output_type": "stream",
     "text": [
      "118it [00:06, 16.98it/s]                         \n",
      "  2%|▏         | 2/117 [00:00<00:06, 16.77it/s]"
     ]
    },
    {
     "name": "stdout",
     "output_type": "stream",
     "text": [
      "Epoch 292 of 301\n",
      "Generator loss: 1.09279859, Discriminator loss: 1.17233467\n"
     ]
    },
    {
     "name": "stderr",
     "output_type": "stream",
     "text": [
      "118it [00:06, 16.92it/s]                         \n",
      "  2%|▏         | 2/117 [00:00<00:06, 16.74it/s]"
     ]
    },
    {
     "name": "stdout",
     "output_type": "stream",
     "text": [
      "Epoch 293 of 301\n",
      "Generator loss: 1.13878369, Discriminator loss: 1.15958679\n"
     ]
    },
    {
     "name": "stderr",
     "output_type": "stream",
     "text": [
      "118it [00:07, 16.72it/s]                         \n",
      "  2%|▏         | 2/117 [00:00<00:06, 16.79it/s]"
     ]
    },
    {
     "name": "stdout",
     "output_type": "stream",
     "text": [
      "Epoch 294 of 301\n",
      "Generator loss: 1.12536037, Discriminator loss: 1.15297341\n"
     ]
    },
    {
     "name": "stderr",
     "output_type": "stream",
     "text": [
      "118it [00:06, 16.95it/s]                         \n",
      "  2%|▏         | 2/117 [00:00<00:06, 16.75it/s]"
     ]
    },
    {
     "name": "stdout",
     "output_type": "stream",
     "text": [
      "Epoch 295 of 301\n",
      "Generator loss: 1.12633395, Discriminator loss: 1.16070199\n"
     ]
    },
    {
     "name": "stderr",
     "output_type": "stream",
     "text": [
      "118it [00:06, 17.00it/s]                         \n",
      "  2%|▏         | 2/117 [00:00<00:06, 16.55it/s]"
     ]
    },
    {
     "name": "stdout",
     "output_type": "stream",
     "text": [
      "Epoch 296 of 301\n",
      "Generator loss: 1.08706689, Discriminator loss: 1.17944217\n"
     ]
    },
    {
     "name": "stderr",
     "output_type": "stream",
     "text": [
      "118it [00:07, 16.80it/s]                         \n",
      "  2%|▏         | 2/117 [00:00<00:07, 16.20it/s]"
     ]
    },
    {
     "name": "stdout",
     "output_type": "stream",
     "text": [
      "Epoch 297 of 301\n",
      "Generator loss: 1.13005579, Discriminator loss: 1.16065145\n"
     ]
    },
    {
     "name": "stderr",
     "output_type": "stream",
     "text": [
      "118it [00:07, 16.74it/s]                         \n",
      "  2%|▏         | 2/117 [00:00<00:06, 16.48it/s]"
     ]
    },
    {
     "name": "stdout",
     "output_type": "stream",
     "text": [
      "Epoch 298 of 301\n",
      "Generator loss: 1.09882247, Discriminator loss: 1.16392684\n"
     ]
    },
    {
     "name": "stderr",
     "output_type": "stream",
     "text": [
      "118it [00:07, 16.77it/s]                         \n",
      "  2%|▏         | 2/117 [00:00<00:07, 16.38it/s]"
     ]
    },
    {
     "name": "stdout",
     "output_type": "stream",
     "text": [
      "Epoch 299 of 301\n",
      "Generator loss: 1.11545599, Discriminator loss: 1.16861331\n"
     ]
    },
    {
     "name": "stderr",
     "output_type": "stream",
     "text": [
      "118it [00:06, 16.89it/s]                         \n"
     ]
    },
    {
     "name": "stdout",
     "output_type": "stream",
     "text": [
      "Epoch 300 of 301\n",
      "Generator loss: 1.10454094, Discriminator loss: 1.16497290\n",
      "DONE TRAINING\n"
     ]
    },
    {
     "data": {
      "image/png": "[encoded data removed]",
      "text/plain": [
       "<Figure size 432x288 with 1 Axes>"
      ]
     },
     "metadata": {},
     "output_type": "display_data"
    }
   ],
   "source": [
    "for epoch in range(epochs):\n",
    "    loss_g = 0.0\n",
    "    loss_d = 0.0\n",
    "    for bi, data in tqdm(enumerate(train_loader), total=int(len(train_data)/train_loader.batch_size)):\n",
    "        image, _ = data\n",
    "        image = image.to(device)\n",
    "        b_size = len(image)\n",
    "        # run the discriminator for k number of steps\n",
    "        for step in range(k):\n",
    "            data_fake = generator(create_noise(b_size, nz)).detach()\n",
    "            data_real = image\n",
    "            # train the discriminator network\n",
    "            loss_d += train_discriminator(optim_d, data_real, data_fake)\n",
    "        data_fake = generator(create_noise(b_size, nz))\n",
    "        # train the generator network\n",
    "        loss_g += train_generator(optim_g, data_fake)\n",
    "    # create the final fake image for the epoch\n",
    "    generated_img = generator(noise).cpu().detach()\n",
    "    # make the images as grid\n",
    "    generated_img = make_grid(generated_img)\n",
    "    # save the generated torch tensor models to disk\n",
    "    save_generator_image(generated_img, f\"../outputs/gen_img{epoch}.png\")\n",
    "    images.append(generated_img)\n",
    "    epoch_loss_g = loss_g / bi # total generator loss for the epoch\n",
    "    epoch_loss_d = loss_d / bi # total discriminator loss for the epoch\n",
    "    losses_g.append(epoch_loss_g)\n",
    "    losses_d.append(epoch_loss_d)\n",
    "    \n",
    "    print(f\"Epoch {epoch} of {epochs}\")\n",
    "    print(f\"Generator loss: {epoch_loss_g:.8f}, Discriminator loss: {epoch_loss_d:.8f}\")\n",
    "    \n",
    "print('DONE TRAINING')\n",
    "torch.save(generator.state_dict(), '../outputs/generator.pth')\n",
    "\n",
    "# save the generated images as GIF file\n",
    "imgs = [np.array(to_pil_image(img)) for img in images]\n",
    "imageio.mimsave('../outputs/generator_images.gif', imgs)\n",
    "\n",
    "# plot and save the generator and discriminator loss\n",
    "plt.figure()\n",
    "plt.plot(losses_g, label='Generator loss')\n",
    "plt.plot(losses_d, label='Discriminator Loss')\n",
    "plt.legend()\n",
    "plt.savefig('../outputs/loss.png')"
   ]
  },
  {
   "cell_type": "code",
   "execution_count": 15,
   "metadata": {},
   "outputs": [],
   "source": [
    "generated_img = generator(noise).cpu().detach()\n",
    "# make the images as grid\n",
    "generated_img = make_grid(generated_img)\n",
    "# save the generated torch tensor models to disk\n",
    "save_generator_image(generated_img, f\"../outputs/gen_img_test.png\")"
   ]
  },
  {
   "cell_type": "code",
   "execution_count": null,
   "metadata": {},
   "outputs": [],
   "source": []
  }
 ],
 "metadata": {
  "celltoolbar": "Raw Cell Format",
  "kernelspec": {
   "display_name": "Python 3",
   "language": "python",
   "name": "python3"
  },
  "language_info": {
   "codemirror_mode": {
    "name": "ipython",
    "version": 3
   },
   "file_extension": ".py",
   "mimetype": "text/x-python",
   "name": "python",
   "nbconvert_exporter": "python",
   "pygments_lexer": "ipython3",
   "version": "3.6.9"
  }
 },
 "nbformat": 4,
 "nbformat_minor": 4
}
